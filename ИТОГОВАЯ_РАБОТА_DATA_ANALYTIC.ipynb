{
 "cells": [
  {
   "cell_type": "markdown",
   "metadata": {
    "id": "MO10TwOs7Wbh"
   },
   "source": [
    "\n",
    "## **0. Загрузка датасета  по курсам**\n",
    "\n",
    "---\n",
    "\n",
    "\n"
   ]
  },
  {
   "cell_type": "markdown",
   "metadata": {
    "id": "n5QeE0mS72vw"
   },
   "source": [
    "### 1. Изучить датасет – оцените его размер"
   ]
  },
  {
   "cell_type": "code",
   "execution_count": null,
   "metadata": {
    "colab": {
     "base_uri": "https://localhost:8080/"
    },
    "id": "u6djlDpb6C-N",
    "outputId": "01cd654a-3520-4192-f0f5-486fa9d16a9e"
   },
   "outputs": [
    {
     "data": {
      "text/plain": [
       "(424, 4)"
      ]
     },
     "execution_count": 145,
     "metadata": {},
     "output_type": "execute_result"
    }
   ],
   "source": [
    "import pandas as pd\n",
    "df = pd.read_csv('courses-program.csv') \n",
    "df.shape"
   ]
  },
  {
   "cell_type": "markdown",
   "metadata": {
    "id": "tuyYUcR4tMCA"
   },
   "source": [
    "### 2. Привести к нормальному виду столбцы, сделать численные столбцы"
   ]
  },
  {
   "cell_type": "markdown",
   "metadata": {
    "id": "MAOMKZKoQHcX"
   },
   "source": [
    "#### Столбцы название курса и название провайдера"
   ]
  },
  {
   "cell_type": "code",
   "execution_count": null,
   "metadata": {
    "colab": {
     "base_uri": "https://localhost:8080/"
    },
    "id": "8Lps9SFvDfxM",
    "outputId": "79c49c90-1aaf-460d-ccf7-0e4fb3a5fb9c"
   },
   "outputs": [
    {
     "data": {
      "application/vnd.google.colaboratory.intrinsic+json": {
       "type": "string"
      },
      "text/plain": [
       "'Курс «Разработчик Node.js»'"
      ]
     },
     "execution_count": 146,
     "metadata": {},
     "output_type": "execute_result"
    }
   ],
   "source": [
    "df['title'][329].replace('\\xa0', ' ').split(' от')[0]"
   ]
  },
  {
   "cell_type": "code",
   "execution_count": null,
   "metadata": {
    "colab": {
     "base_uri": "https://localhost:8080/"
    },
    "id": "t0Jlx3SzEohO",
    "outputId": "8c05745f-266a-47ca-c29e-078a64950515"
   },
   "outputs": [
    {
     "data": {
      "text/plain": [
       "0                 Профессия «С#-разработчик»\n",
       "1      Профессия «Разработчик на C++ с нуля»\n",
       "2             Факультет fullstack JavaScript\n",
       "3                 Профессия «Data scientist»\n",
       "4        Профессия «Системный администратор»\n",
       "                       ...                  \n",
       "419                   Курс «DevOps marathon»\n",
       "420                         Курс «PHP/MySQL»\n",
       "421        Курс «Python для непрограммистов»\n",
       "422                       Курс «Bootstrap 3»\n",
       "423                        Курс «Основы SQL»\n",
       "Name: title_course, Length: 424, dtype: object"
      ]
     },
     "execution_count": 147,
     "metadata": {},
     "output_type": "execute_result"
    }
   ],
   "source": [
    "df['title_course']=df['title'].apply(lambda x: x.replace('\\xa0', ' ').split(' от')[0])\n",
    "df['title_course']"
   ]
  },
  {
   "cell_type": "code",
   "execution_count": null,
   "metadata": {
    "colab": {
     "base_uri": "https://localhost:8080/"
    },
    "id": "Yx75zbYSIEKC",
    "outputId": "824bdac4-bcb2-4c22-ba33-ec997518dfc8"
   },
   "outputs": [
    {
     "data": {
      "text/plain": [
       "0           Skillbox\n",
       "1           Skillbox\n",
       "2         GeekBrains\n",
       "3       SkillFactory\n",
       "4          Нетологии\n",
       "           ...      \n",
       "419             OTUS\n",
       "420        FructCode\n",
       "421     SkillFactory\n",
       "422        FructCode\n",
       "423            Udemy\n",
       "Name: title_provider, Length: 424, dtype: object"
      ]
     },
     "execution_count": 148,
     "metadata": {},
     "output_type": "execute_result"
    }
   ],
   "source": [
    "df['title_provider']=df['title'].apply(lambda x: x.replace('\\xa0', ' ').split(' от')[1])\n",
    "df['title_provider']"
   ]
  },
  {
   "cell_type": "code",
   "execution_count": null,
   "metadata": {
    "id": "QPVWVw7Q7WrR"
   },
   "outputs": [],
   "source": [
    "df['title_provider']=df['title_provider'].apply(lambda x: x.replace('Geekbrains', 'GeekBrains'))\n",
    "df['title_provider']=df['title_provider'].apply(lambda x: x.replace('Нетологии', 'Нетология'))\n",
    "df['title_provider']=df['title_provider'].apply(lambda x: x.replace('Fructcode', 'FructCode'))\n",
    "df['title_provider']=df['title_provider'].apply(lambda x: x.replace('otus', 'OTUS'))\n",
    "df['title_provider']=df['title_provider'].apply(lambda x: x.replace('Otus', 'OTUS'))\n",
    "df['title_provider']=df['title_provider'].apply(lambda x: x.replace('Skillfactory', 'SkillFactory'))\n",
    "df['title_provider']=df['title_provider'].apply(lambda x: x.replace('SkillFactory и МФТИ', 'SkillFactory'))\n",
    "df['title_provider']=df['title_provider'].apply(lambda x: x.replace('SkillFactory и УрФУ', 'SkillFactory'))\n",
    "df['title_provider']=df['title_provider'].apply(lambda x: x.replace('Loftschool', 'LoftSchool'))\n",
    "df['title_provider']=df['title_provider'].apply(lambda x: x.replace('Skillbox и РАНХиГС', 'Skillbox'))\n",
    "df['title_provider']=df['title_provider'].apply(lambda x: x.replace('Яндекс Практикума', 'Яндекс Практикум'))\n",
    "df['title_provider']=df['title_provider'].apply(lambda x: x.replace('GeekBrains при участии Skillbox', 'GeekBrains'))\n",
    "df['title_provider']=df['title_provider'].apply(lambda x: x.replace('Нетологияи и НИУ ВШЭ', 'Нетология'))\n",
    "df['title_provider']=df['title_provider'].apply(lambda x: x.replace('Специалист.ру', 'Cпециалист.ру'))\n",
    "df['title_provider']=df['title_provider'].apply(lambda x: x.replace('Productstar', 'ProductStar'))\n",
    "df['title_provider']=df['title_provider'].apply(lambda x: x.replace(' ', ''))"
   ]
  },
  {
   "cell_type": "markdown",
   "metadata": {
    "id": "98uN8qOJQV03"
   },
   "source": [
    "#### Столбец длительность обучения в мес"
   ]
  },
  {
   "cell_type": "code",
   "execution_count": null,
   "metadata": {
    "id": "3ACFVvqL6mSy"
   },
   "outputs": [],
   "source": [
    "import re\n",
    "\n",
    "def clear_duration(duration):\n",
    "  return int(re.sub('\\D', '', duration))\n",
    "df['duration'] = df['duration'].apply(clear_duration)"
   ]
  },
  {
   "cell_type": "markdown",
   "metadata": {
    "id": "FtvvedKJQeiV"
   },
   "source": [
    "#### Столбец стоимость без учета скидки, общая"
   ]
  },
  {
   "cell_type": "code",
   "execution_count": null,
   "metadata": {
    "colab": {
     "base_uri": "https://localhost:8080/"
    },
    "id": "svUH3RINQC1c",
    "outputId": "78bdaf29-bd85-4b01-c47d-e7a075d368ba"
   },
   "outputs": [
    {
     "data": {
      "application/vnd.google.colaboratory.intrinsic+json": {
       "type": "string"
      },
      "text/plain": [
       "'125063'"
      ]
     },
     "execution_count": 151,
     "metadata": {},
     "output_type": "execute_result"
    }
   ],
   "source": [
    "df['price'][0].split('₽')[1].replace(' ', '').replace('\\xa0', '')"
   ]
  },
  {
   "cell_type": "code",
   "execution_count": null,
   "metadata": {
    "colab": {
     "base_uri": "https://localhost:8080/"
    },
    "id": "ByJTmeqQRlih",
    "outputId": "38c3be68-4d9e-4da5-d296-3d7d9f431205"
   },
   "outputs": [
    {
     "data": {
      "text/plain": [
       "0      166750.0\n",
       "1      193833.0\n",
       "2      224500.0\n",
       "3      324000.0\n",
       "4      130000.0\n",
       "         ...   \n",
       "419      3000.0\n",
       "420       570.0\n",
       "421         0.0\n",
       "422      2100.0\n",
       "423      1790.0\n",
       "Name: price_total, Length: 424, dtype: float64"
      ]
     },
     "execution_count": 152,
     "metadata": {},
     "output_type": "execute_result"
    }
   ],
   "source": [
    "df['price_total']=df['price'].apply(lambda x: x.replace(' ', '').replace('\\xa0', ''))\n",
    "df['price_total']=df['price_total'].str.split('₽').str[0].replace('Бесплатно','0')\n",
    "df['price_total']=df['price_total'].astype('float')\n",
    "df['price_total']"
   ]
  },
  {
   "cell_type": "markdown",
   "metadata": {
    "id": "YzvtuhUbQlNG"
   },
   "source": [
    "#### Стоимость с учетом скидки"
   ]
  },
  {
   "cell_type": "code",
   "execution_count": null,
   "metadata": {
    "colab": {
     "base_uri": "https://localhost:8080/"
    },
    "id": "3aE16769zrYY",
    "outputId": "6a70a051-debb-46a9-fedb-14ca935cde3d"
   },
   "outputs": [
    {
     "data": {
      "text/plain": [
       "0      125063.0\n",
       "1      125991.0\n",
       "2      168750.0\n",
       "3      178200.0\n",
       "4       78000.0\n",
       "         ...   \n",
       "419         NaN\n",
       "420         NaN\n",
       "421         NaN\n",
       "422       890.0\n",
       "423         NaN\n",
       "Name: price_discount, Length: 424, dtype: float64"
      ]
     },
     "execution_count": 153,
     "metadata": {},
     "output_type": "execute_result"
    }
   ],
   "source": [
    "df['price_discount']=df['price'].apply(lambda x: x.replace(' ', '').replace('\\xa0', ''))\n",
    "df['price_discount']=df['price_discount'].str.split('₽').str[1].replace('', 'NaN')\n",
    "df['price_discount']=df['price_discount'].astype('float')\n",
    "df['price_discount']\n"
   ]
  },
  {
   "cell_type": "code",
   "execution_count": null,
   "metadata": {
    "colab": {
     "base_uri": "https://localhost:8080/"
    },
    "id": "KJUHVWjoKJH8",
    "outputId": "d082490a-24d1-4f9a-a07c-b4c4b252adcb"
   },
   "outputs": [
    {
     "data": {
      "text/plain": [
       "0      125063.0\n",
       "1      125991.0\n",
       "2      168750.0\n",
       "3      178200.0\n",
       "4       78000.0\n",
       "         ...   \n",
       "419      3000.0\n",
       "420       570.0\n",
       "421         0.0\n",
       "422       890.0\n",
       "423      1790.0\n",
       "Name: price_discount, Length: 424, dtype: float64"
      ]
     },
     "execution_count": 154,
     "metadata": {},
     "output_type": "execute_result"
    }
   ],
   "source": [
    "df.price_discount = df.price_discount.fillna(df.price_total)\n",
    "df.price_discount "
   ]
  },
  {
   "cell_type": "code",
   "execution_count": null,
   "metadata": {
    "colab": {
     "base_uri": "https://localhost:8080/"
    },
    "id": "qyFc_jA5MUW_",
    "outputId": "45e9a4b1-62ff-4d89-90cc-5d61735961d2"
   },
   "outputs": [
    {
     "data": {
      "text/plain": [
       "0"
      ]
     },
     "execution_count": 155,
     "metadata": {},
     "output_type": "execute_result"
    }
   ],
   "source": [
    "df.price_discount.isna().sum()"
   ]
  },
  {
   "cell_type": "markdown",
   "metadata": {
    "id": "bXZNLF_sQqdJ"
   },
   "source": [
    "#### Создаем новый датасет с редактированными столбцами"
   ]
  },
  {
   "cell_type": "code",
   "execution_count": null,
   "metadata": {
    "colab": {
     "base_uri": "https://localhost:8080/"
    },
    "id": "8IEtVGMjzdOj",
    "outputId": "787804a7-95af-4c72-b339-e1a34a4d5ecd"
   },
   "outputs": [
    {
     "data": {
      "text/html": [
       "\n",
       "  <div id=\"df-22ffe2f5-4595-40c3-8f6d-fd2cd7ea11e9\">\n",
       "    <div class=\"colab-df-container\">\n",
       "      <div>\n",
       "<style scoped>\n",
       "    .dataframe tbody tr th:only-of-type {\n",
       "        vertical-align: middle;\n",
       "    }\n",
       "\n",
       "    .dataframe tbody tr th {\n",
       "        vertical-align: top;\n",
       "    }\n",
       "\n",
       "    .dataframe thead th {\n",
       "        text-align: right;\n",
       "    }\n",
       "</style>\n",
       "<table border=\"1\" class=\"dataframe\">\n",
       "  <thead>\n",
       "    <tr style=\"text-align: right;\">\n",
       "      <th></th>\n",
       "      <th>duration</th>\n",
       "      <th>rating</th>\n",
       "      <th>title_course</th>\n",
       "      <th>title_provider</th>\n",
       "      <th>price_total</th>\n",
       "      <th>price_discount</th>\n",
       "    </tr>\n",
       "  </thead>\n",
       "  <tbody>\n",
       "    <tr>\n",
       "      <th>0</th>\n",
       "      <td>12</td>\n",
       "      <td>10.0</td>\n",
       "      <td>Профессия «С#-разработчик»</td>\n",
       "      <td>Skillbox</td>\n",
       "      <td>166750.0</td>\n",
       "      <td>125063.0</td>\n",
       "    </tr>\n",
       "    <tr>\n",
       "      <th>1</th>\n",
       "      <td>18</td>\n",
       "      <td>10.0</td>\n",
       "      <td>Профессия «Разработчик на C++ с нуля»</td>\n",
       "      <td>Skillbox</td>\n",
       "      <td>193833.0</td>\n",
       "      <td>125991.0</td>\n",
       "    </tr>\n",
       "    <tr>\n",
       "      <th>2</th>\n",
       "      <td>15</td>\n",
       "      <td>10.0</td>\n",
       "      <td>Факультет fullstack JavaScript</td>\n",
       "      <td>GeekBrains</td>\n",
       "      <td>224500.0</td>\n",
       "      <td>168750.0</td>\n",
       "    </tr>\n",
       "    <tr>\n",
       "      <th>3</th>\n",
       "      <td>24</td>\n",
       "      <td>10.0</td>\n",
       "      <td>Профессия «Data scientist»</td>\n",
       "      <td>SkillFactory</td>\n",
       "      <td>324000.0</td>\n",
       "      <td>178200.0</td>\n",
       "    </tr>\n",
       "    <tr>\n",
       "      <th>4</th>\n",
       "      <td>12</td>\n",
       "      <td>10.0</td>\n",
       "      <td>Профессия «Системный администратор»</td>\n",
       "      <td>Нетология</td>\n",
       "      <td>130000.0</td>\n",
       "      <td>78000.0</td>\n",
       "    </tr>\n",
       "    <tr>\n",
       "      <th>...</th>\n",
       "      <td>...</td>\n",
       "      <td>...</td>\n",
       "      <td>...</td>\n",
       "      <td>...</td>\n",
       "      <td>...</td>\n",
       "      <td>...</td>\n",
       "    </tr>\n",
       "    <tr>\n",
       "      <th>419</th>\n",
       "      <td>1</td>\n",
       "      <td>4.3</td>\n",
       "      <td>Курс «DevOps marathon»</td>\n",
       "      <td>OTUS</td>\n",
       "      <td>3000.0</td>\n",
       "      <td>3000.0</td>\n",
       "    </tr>\n",
       "    <tr>\n",
       "      <th>420</th>\n",
       "      <td>1</td>\n",
       "      <td>4.3</td>\n",
       "      <td>Курс «PHP/MySQL»</td>\n",
       "      <td>FructCode</td>\n",
       "      <td>570.0</td>\n",
       "      <td>570.0</td>\n",
       "    </tr>\n",
       "    <tr>\n",
       "      <th>421</th>\n",
       "      <td>1</td>\n",
       "      <td>4.0</td>\n",
       "      <td>Курс «Python для непрограммистов»</td>\n",
       "      <td>SkillFactory</td>\n",
       "      <td>0.0</td>\n",
       "      <td>0.0</td>\n",
       "    </tr>\n",
       "    <tr>\n",
       "      <th>422</th>\n",
       "      <td>1</td>\n",
       "      <td>3.8</td>\n",
       "      <td>Курс «Bootstrap 3»</td>\n",
       "      <td>FructCode</td>\n",
       "      <td>2100.0</td>\n",
       "      <td>890.0</td>\n",
       "    </tr>\n",
       "    <tr>\n",
       "      <th>423</th>\n",
       "      <td>1</td>\n",
       "      <td>3.7</td>\n",
       "      <td>Курс «Основы SQL»</td>\n",
       "      <td>Udemy</td>\n",
       "      <td>1790.0</td>\n",
       "      <td>1790.0</td>\n",
       "    </tr>\n",
       "  </tbody>\n",
       "</table>\n",
       "<p>424 rows × 6 columns</p>\n",
       "</div>\n",
       "      <button class=\"colab-df-convert\" onclick=\"convertToInteractive('df-22ffe2f5-4595-40c3-8f6d-fd2cd7ea11e9')\"\n",
       "              title=\"Convert this dataframe to an interactive table.\"\n",
       "              style=\"display:none;\">\n",
       "        \n",
       "  <svg xmlns=\"http://www.w3.org/2000/svg\" height=\"24px\"viewBox=\"0 0 24 24\"\n",
       "       width=\"24px\">\n",
       "    <path d=\"M0 0h24v24H0V0z\" fill=\"none\"/>\n",
       "    <path d=\"M18.56 5.44l.94 2.06.94-2.06 2.06-.94-2.06-.94-.94-2.06-.94 2.06-2.06.94zm-11 1L8.5 8.5l.94-2.06 2.06-.94-2.06-.94L8.5 2.5l-.94 2.06-2.06.94zm10 10l.94 2.06.94-2.06 2.06-.94-2.06-.94-.94-2.06-.94 2.06-2.06.94z\"/><path d=\"M17.41 7.96l-1.37-1.37c-.4-.4-.92-.59-1.43-.59-.52 0-1.04.2-1.43.59L10.3 9.45l-7.72 7.72c-.78.78-.78 2.05 0 2.83L4 21.41c.39.39.9.59 1.41.59.51 0 1.02-.2 1.41-.59l7.78-7.78 2.81-2.81c.8-.78.8-2.07 0-2.86zM5.41 20L4 18.59l7.72-7.72 1.47 1.35L5.41 20z\"/>\n",
       "  </svg>\n",
       "      </button>\n",
       "      \n",
       "  <style>\n",
       "    .colab-df-container {\n",
       "      display:flex;\n",
       "      flex-wrap:wrap;\n",
       "      gap: 12px;\n",
       "    }\n",
       "\n",
       "    .colab-df-convert {\n",
       "      background-color: #E8F0FE;\n",
       "      border: none;\n",
       "      border-radius: 50%;\n",
       "      cursor: pointer;\n",
       "      display: none;\n",
       "      fill: #1967D2;\n",
       "      height: 32px;\n",
       "      padding: 0 0 0 0;\n",
       "      width: 32px;\n",
       "    }\n",
       "\n",
       "    .colab-df-convert:hover {\n",
       "      background-color: #E2EBFA;\n",
       "      box-shadow: 0px 1px 2px rgba(60, 64, 67, 0.3), 0px 1px 3px 1px rgba(60, 64, 67, 0.15);\n",
       "      fill: #174EA6;\n",
       "    }\n",
       "\n",
       "    [theme=dark] .colab-df-convert {\n",
       "      background-color: #3B4455;\n",
       "      fill: #D2E3FC;\n",
       "    }\n",
       "\n",
       "    [theme=dark] .colab-df-convert:hover {\n",
       "      background-color: #434B5C;\n",
       "      box-shadow: 0px 1px 3px 1px rgba(0, 0, 0, 0.15);\n",
       "      filter: drop-shadow(0px 1px 2px rgba(0, 0, 0, 0.3));\n",
       "      fill: #FFFFFF;\n",
       "    }\n",
       "  </style>\n",
       "\n",
       "      <script>\n",
       "        const buttonEl =\n",
       "          document.querySelector('#df-22ffe2f5-4595-40c3-8f6d-fd2cd7ea11e9 button.colab-df-convert');\n",
       "        buttonEl.style.display =\n",
       "          google.colab.kernel.accessAllowed ? 'block' : 'none';\n",
       "\n",
       "        async function convertToInteractive(key) {\n",
       "          const element = document.querySelector('#df-22ffe2f5-4595-40c3-8f6d-fd2cd7ea11e9');\n",
       "          const dataTable =\n",
       "            await google.colab.kernel.invokeFunction('convertToInteractive',\n",
       "                                                     [key], {});\n",
       "          if (!dataTable) return;\n",
       "\n",
       "          const docLinkHtml = 'Like what you see? Visit the ' +\n",
       "            '<a target=\"_blank\" href=https://colab.research.google.com/notebooks/data_table.ipynb>data table notebook</a>'\n",
       "            + ' to learn more about interactive tables.';\n",
       "          element.innerHTML = '';\n",
       "          dataTable['output_type'] = 'display_data';\n",
       "          await google.colab.output.renderOutput(dataTable, element);\n",
       "          const docLink = document.createElement('div');\n",
       "          docLink.innerHTML = docLinkHtml;\n",
       "          element.appendChild(docLink);\n",
       "        }\n",
       "      </script>\n",
       "    </div>\n",
       "  </div>\n",
       "  "
      ],
      "text/plain": [
       "     duration  rating                           title_course title_provider  \\\n",
       "0          12    10.0             Профессия «С#-разработчик»       Skillbox   \n",
       "1          18    10.0  Профессия «Разработчик на C++ с нуля»       Skillbox   \n",
       "2          15    10.0         Факультет fullstack JavaScript     GeekBrains   \n",
       "3          24    10.0             Профессия «Data scientist»   SkillFactory   \n",
       "4          12    10.0    Профессия «Системный администратор»      Нетология   \n",
       "..        ...     ...                                    ...            ...   \n",
       "419         1     4.3                 Курс «DevOps marathon»           OTUS   \n",
       "420         1     4.3                       Курс «PHP/MySQL»      FructCode   \n",
       "421         1     4.0      Курс «Python для непрограммистов»   SkillFactory   \n",
       "422         1     3.8                     Курс «Bootstrap 3»      FructCode   \n",
       "423         1     3.7                      Курс «Основы SQL»          Udemy   \n",
       "\n",
       "     price_total  price_discount  \n",
       "0       166750.0        125063.0  \n",
       "1       193833.0        125991.0  \n",
       "2       224500.0        168750.0  \n",
       "3       324000.0        178200.0  \n",
       "4       130000.0         78000.0  \n",
       "..           ...             ...  \n",
       "419       3000.0          3000.0  \n",
       "420        570.0           570.0  \n",
       "421          0.0             0.0  \n",
       "422       2100.0           890.0  \n",
       "423       1790.0          1790.0  \n",
       "\n",
       "[424 rows x 6 columns]"
      ]
     },
     "execution_count": 156,
     "metadata": {},
     "output_type": "execute_result"
    }
   ],
   "source": [
    "dfcourse=df.copy()\n",
    "dfcourse = df.drop(['title', 'price'], axis=1)\n",
    "dfcourse"
   ]
  },
  {
   "cell_type": "markdown",
   "metadata": {
    "id": "bCqBXdBmQy3x"
   },
   "source": [
    "#### Проверка итогового датасет на пропуски. \n",
    "пропусков нет"
   ]
  },
  {
   "cell_type": "code",
   "execution_count": null,
   "metadata": {
    "colab": {
     "base_uri": "https://localhost:8080/"
    },
    "id": "W19C_qUfP5Gw",
    "outputId": "5c7685d2-1dd6-43cf-9910-1535afc0ddda"
   },
   "outputs": [
    {
     "name": "stdout",
     "output_type": "stream",
     "text": [
      "Процент пропущенных значений:\n"
     ]
    },
    {
     "data": {
      "text/plain": [
       "duration          0.0\n",
       "rating            0.0\n",
       "title_course      0.0\n",
       "title_provider    0.0\n",
       "price_total       0.0\n",
       "price_discount    0.0\n",
       "dtype: float64"
      ]
     },
     "execution_count": 157,
     "metadata": {},
     "output_type": "execute_result"
    }
   ],
   "source": [
    "missing_values = ((dfcourse.isna().sum() / len(dfcourse)) * 100).sort_values()\n",
    "print('Процент пропущенных значений:')\n",
    "missing_values"
   ]
  },
  {
   "cell_type": "markdown",
   "metadata": {
    "id": "XR8zJRfN32r_"
   },
   "source": []
  },
  {
   "cell_type": "markdown",
   "metadata": {
    "id": "hMG_DJ_W33CY"
   },
   "source": [
    "### OHE Категориальных"
   ]
  },
  {
   "cell_type": "code",
   "execution_count": null,
   "metadata": {
    "colab": {
     "base_uri": "https://localhost:8080/"
    },
    "id": "pRO1bj5U33Ca",
    "outputId": "f69f0c54-2607-434b-dc0c-0eccf441925b"
   },
   "outputs": [
    {
     "data": {
      "text/plain": [
       "(278, 6)"
      ]
     },
     "execution_count": 159,
     "metadata": {},
     "output_type": "execute_result"
    }
   ],
   "source": [
    "provaiders = ['Skillbox', 'GeekBrains', 'SkillFactory', 'Нетология']\n",
    "filter = dfcourse['title_provider'].isin(provaiders)\n",
    "dfcoursOHE = dfcourse[filter]\n",
    "dfcoursOHE.shape\n",
    "from sklearn.preprocessing import OneHotEncoder\n",
    "ohe = OneHotEncoder(sparse=False)\n",
    "dfcoursOHE.title_provider.unique()\n",
    "dfcoursOHE.shape"
   ]
  },
  {
   "cell_type": "code",
   "execution_count": null,
   "metadata": {
    "colab": {
     "base_uri": "https://localhost:8080/"
    },
    "id": "uB4MSsxZ33Cb",
    "outputId": "35a4b4c6-7894-442a-8b47-b5e18c7fe530"
   },
   "outputs": [
    {
     "data": {
      "text/plain": [
       "OneHotEncoder(sparse=False)"
      ]
     },
     "execution_count": 160,
     "metadata": {},
     "output_type": "execute_result"
    }
   ],
   "source": [
    "ohe.fit(dfcoursOHE[['title_provider']])"
   ]
  },
  {
   "cell_type": "code",
   "execution_count": null,
   "metadata": {
    "colab": {
     "base_uri": "https://localhost:8080/"
    },
    "id": "5zxznM1-33Cc",
    "outputId": "c19f3421-1ac0-40de-a29b-d162b198485e"
   },
   "outputs": [
    {
     "data": {
      "text/plain": [
       "array([[0., 0., 1., 0.],\n",
       "       [0., 0., 1., 0.],\n",
       "       [1., 0., 0., 0.],\n",
       "       ...,\n",
       "       [0., 0., 0., 1.],\n",
       "       [1., 0., 0., 0.],\n",
       "       [0., 1., 0., 0.]])"
      ]
     },
     "execution_count": 161,
     "metadata": {},
     "output_type": "execute_result"
    }
   ],
   "source": [
    "ohe_shedule = ohe.transform(dfcoursOHE[['title_provider']])\n",
    "ohe_shedule"
   ]
  },
  {
   "cell_type": "code",
   "execution_count": null,
   "metadata": {
    "colab": {
     "base_uri": "https://localhost:8080/"
    },
    "id": "kjkS0z6W33Cc",
    "outputId": "f7427d83-2664-45cb-dbca-cb83a4b798ea"
   },
   "outputs": [
    {
     "name": "stderr",
     "output_type": "stream",
     "text": [
      "/usr/local/lib/python3.7/dist-packages/sklearn/utils/deprecation.py:87: FutureWarning: Function get_feature_names is deprecated; get_feature_names is deprecated in 1.0 and will be removed in 1.2. Please use get_feature_names_out instead.\n",
      "  warnings.warn(msg, category=FutureWarning)\n",
      "/usr/local/lib/python3.7/dist-packages/pandas/core/frame.py:3678: SettingWithCopyWarning: \n",
      "A value is trying to be set on a copy of a slice from a DataFrame.\n",
      "Try using .loc[row_indexer,col_indexer] = value instead\n",
      "\n",
      "See the caveats in the documentation: https://pandas.pydata.org/pandas-docs/stable/user_guide/indexing.html#returning-a-view-versus-a-copy\n",
      "  self[col] = igetitem(value, i)\n"
     ]
    }
   ],
   "source": [
    "ohe.get_feature_names()\n",
    "dfcoursOHE[ohe.get_feature_names()] = ohe_shedule"
   ]
  },
  {
   "cell_type": "markdown",
   "metadata": {
    "id": "lKN42t2JycR2"
   },
   "source": [
    "#### Переименовать датасет в dfcourse"
   ]
  },
  {
   "cell_type": "code",
   "execution_count": null,
   "metadata": {
    "colab": {
     "base_uri": "https://localhost:8080/"
    },
    "id": "UnOablhryll6",
    "outputId": "dfbedef3-9104-4a9c-fb89-2719bd530809"
   },
   "outputs": [
    {
     "name": "stdout",
     "output_type": "stream",
     "text": [
      "<class 'pandas.core.frame.DataFrame'>\n",
      "RangeIndex: 424 entries, 0 to 423\n",
      "Data columns (total 32 columns):\n",
      " #   Column              Non-Null Count  Dtype  \n",
      "---  ------              --------------  -----  \n",
      " 0   duration            424 non-null    int64  \n",
      " 1   rating              424 non-null    float64\n",
      " 2   title_course        424 non-null    object \n",
      " 3   title_provider      424 non-null    object \n",
      " 4   price_total         424 non-null    float64\n",
      " 5   price_discount      424 non-null    float64\n",
      " 6   x0_CodeStar         424 non-null    float64\n",
      " 7   x0_Cпециалист.ру    424 non-null    float64\n",
      " 8   x0_FructCode        424 non-null    float64\n",
      " 9   x0_GeekBrains       424 non-null    float64\n",
      " 10  x0_HEDU             424 non-null    float64\n",
      " 11  x0_Hedu             424 non-null    float64\n",
      " 12  x0_LoftSchool       424 non-null    float64\n",
      " 13  x0_MDA              424 non-null    float64\n",
      " 14  x0_NordicIT         424 non-null    float64\n",
      " 15  x0_OTUS             424 non-null    float64\n",
      " 16  x0_ProductStar      424 non-null    float64\n",
      " 17  x0_SFEducation      424 non-null    float64\n",
      " 18  x0_SkillFactory     424 non-null    float64\n",
      " 19  x0_Skillbox         424 non-null    float64\n",
      " 20  x0_Skypro           424 non-null    float64\n",
      " 21  x0_Skysmart         424 non-null    float64\n",
      " 22  x0_Udemy            424 non-null    float64\n",
      " 23  x0_XYZSchool        424 non-null    float64\n",
      " 24  x0_robot_dreams     424 non-null    float64\n",
      " 25  x0_АкадемииЛАНИТ    424 non-null    float64\n",
      " 26  x0_Бруноям          424 non-null    float64\n",
      " 27  x0_Делосистемы      424 non-null    float64\n",
      " 28  x0_МихаилаРусакова  424 non-null    float64\n",
      " 29  x0_Нетология        424 non-null    float64\n",
      " 30  x0_Слёрм            424 non-null    float64\n",
      " 31  x0_ЯндексПрактикум  424 non-null    float64\n",
      "dtypes: float64(29), int64(1), object(2)\n",
      "memory usage: 106.1+ KB\n"
     ]
    }
   ],
   "source": [
    "dfcourse.info()"
   ]
  },
  {
   "cell_type": "markdown",
   "metadata": {
    "id": "_VZcvQ466Ssq"
   },
   "source": [
    "### Выгрузка df для BI"
   ]
  },
  {
   "cell_type": "code",
   "execution_count": null,
   "metadata": {
    "id": "VEpKcxLl6Yy1"
   },
   "outputs": [],
   "source": [
    "dfcourse.to_csv('dfcourseBI.csv', index=False)"
   ]
  },
  {
   "cell_type": "markdown",
   "metadata": {
    "id": "z3xinaR9pq-u"
   },
   "source": [
    "## **0. Загрузка датасет по вакансиям Мск / Спб**\n",
    "\n",
    "---\n",
    "\n",
    "\n",
    "\n",
    "\n"
   ]
  },
  {
   "cell_type": "code",
   "execution_count": null,
   "metadata": {
    "colab": {
     "base_uri": "https://localhost:8080/"
    },
    "id": "0ErIke0Rpq_D",
    "outputId": "eba58e58-8cc1-4ba5-cebb-a6fd09ba5774"
   },
   "outputs": [
    {
     "data": {
      "text/plain": [
       "(7758, 15)"
      ]
     },
     "execution_count": 16,
     "metadata": {},
     "output_type": "execute_result"
    }
   ],
   "source": [
    "import pandas as pd\n",
    "df = pd.read_csv('FIN-jobs.csv') \n",
    "df.shape"
   ]
  },
  {
   "cell_type": "code",
   "execution_count": null,
   "metadata": {
    "colab": {
     "base_uri": "https://localhost:8080/"
    },
    "id": "TKmrOuMb6MOx",
    "outputId": "31c17bf8-fca7-404d-e1d6-9e1537b22eab"
   },
   "outputs": [
    {
     "data": {
      "text/plain": [
       "(0, 15)"
      ]
     },
     "execution_count": 17,
     "metadata": {},
     "output_type": "execute_result"
    }
   ],
   "source": [
    "df.duplicated()\n",
    "df[df.duplicated()].shape\n",
    "df2 = df.drop_duplicates()\n",
    "df2[df2.duplicated()].shape"
   ]
  },
  {
   "cell_type": "code",
   "execution_count": null,
   "metadata": {
    "colab": {
     "base_uri": "https://localhost:8080/"
    },
    "id": "0nmQxgLUeBDE",
    "outputId": "1715e95d-4702-474f-f15b-c92809dd14ab"
   },
   "outputs": [
    {
     "data": {
      "text/plain": [
       "(7573, 14)"
      ]
     },
     "execution_count": 18,
     "metadata": {},
     "output_type": "execute_result"
    }
   ],
   "source": [
    "df2 = df2.drop(columns=['type'])\n",
    "df2.shape"
   ]
  },
  {
   "cell_type": "markdown",
   "metadata": {
    "id": "qIqG2lBrvl2M"
   },
   "source": [
    "1.1 привести в вид датасет, удалить лишние символы"
   ]
  },
  {
   "cell_type": "code",
   "execution_count": null,
   "metadata": {
    "colab": {
     "base_uri": "https://localhost:8080/"
    },
    "id": "HOJCkU4crbbY",
    "outputId": "c475c4f1-c54b-4fa8-bc2b-0b0c17fd6d07"
   },
   "outputs": [
    {
     "data": {
      "text/html": [
       "\n",
       "  <div id=\"df-e9130aba-b550-44f0-a490-056d9a9c1a95\">\n",
       "    <div class=\"colab-df-container\">\n",
       "      <div>\n",
       "<style scoped>\n",
       "    .dataframe tbody tr th:only-of-type {\n",
       "        vertical-align: middle;\n",
       "    }\n",
       "\n",
       "    .dataframe tbody tr th {\n",
       "        vertical-align: top;\n",
       "    }\n",
       "\n",
       "    .dataframe thead th {\n",
       "        text-align: right;\n",
       "    }\n",
       "</style>\n",
       "<table border=\"1\" class=\"dataframe\">\n",
       "  <thead>\n",
       "    <tr style=\"text-align: right;\">\n",
       "      <th></th>\n",
       "      <th>id</th>\n",
       "      <th>name</th>\n",
       "      <th>published_at</th>\n",
       "      <th>created_at</th>\n",
       "      <th>area-city</th>\n",
       "      <th>salaryfrom</th>\n",
       "      <th>salaryto</th>\n",
       "      <th>currency</th>\n",
       "      <th>vacancy_type</th>\n",
       "      <th>address_new</th>\n",
       "      <th>employer_new</th>\n",
       "      <th>Responsibility</th>\n",
       "      <th>Requirment</th>\n",
       "      <th>schedule_new</th>\n",
       "    </tr>\n",
       "  </thead>\n",
       "  <tbody>\n",
       "    <tr>\n",
       "      <th>0</th>\n",
       "      <td>66729857</td>\n",
       "      <td>Аналитик</td>\n",
       "      <td>2022-06-09T11:33:57+0300</td>\n",
       "      <td>2022-06-09T11:33:57+0300</td>\n",
       "      <td>Москва</td>\n",
       "      <td>130000.0</td>\n",
       "      <td>180000.0</td>\n",
       "      <td>RUR</td>\n",
       "      <td>Открытая</td>\n",
       "      <td></td>\n",
       "      <td>'ShinSale'</td>\n",
       "      <td>Опыт написания постановок и технической докум...</td>\n",
       "      <td>Взаимодействовать с командой разработчиков по...</td>\n",
       "      <td>Полный день</td>\n",
       "    </tr>\n",
       "    <tr>\n",
       "      <th>1</th>\n",
       "      <td>66080005</td>\n",
       "      <td>Аналитик</td>\n",
       "      <td>2022-06-06T13:42:40+0300</td>\n",
       "      <td>2022-06-06T13:42:40+0300</td>\n",
       "      <td>Москва</td>\n",
       "      <td>200000.0</td>\n",
       "      <td>0.0</td>\n",
       "      <td>RUR</td>\n",
       "      <td>Открытая</td>\n",
       "      <td>Энергетическая улица</td>\n",
       "      <td>'Научный Центр Автоматизированных систем упра...</td>\n",
       "      <td>Высшее образование. Опыт работы в ИТ Интеграт...</td>\n",
       "      <td>Участие в проектах по автоматизации процессов...</td>\n",
       "      <td>Полный день</td>\n",
       "    </tr>\n",
       "  </tbody>\n",
       "</table>\n",
       "</div>\n",
       "      <button class=\"colab-df-convert\" onclick=\"convertToInteractive('df-e9130aba-b550-44f0-a490-056d9a9c1a95')\"\n",
       "              title=\"Convert this dataframe to an interactive table.\"\n",
       "              style=\"display:none;\">\n",
       "        \n",
       "  <svg xmlns=\"http://www.w3.org/2000/svg\" height=\"24px\"viewBox=\"0 0 24 24\"\n",
       "       width=\"24px\">\n",
       "    <path d=\"M0 0h24v24H0V0z\" fill=\"none\"/>\n",
       "    <path d=\"M18.56 5.44l.94 2.06.94-2.06 2.06-.94-2.06-.94-.94-2.06-.94 2.06-2.06.94zm-11 1L8.5 8.5l.94-2.06 2.06-.94-2.06-.94L8.5 2.5l-.94 2.06-2.06.94zm10 10l.94 2.06.94-2.06 2.06-.94-2.06-.94-.94-2.06-.94 2.06-2.06.94z\"/><path d=\"M17.41 7.96l-1.37-1.37c-.4-.4-.92-.59-1.43-.59-.52 0-1.04.2-1.43.59L10.3 9.45l-7.72 7.72c-.78.78-.78 2.05 0 2.83L4 21.41c.39.39.9.59 1.41.59.51 0 1.02-.2 1.41-.59l7.78-7.78 2.81-2.81c.8-.78.8-2.07 0-2.86zM5.41 20L4 18.59l7.72-7.72 1.47 1.35L5.41 20z\"/>\n",
       "  </svg>\n",
       "      </button>\n",
       "      \n",
       "  <style>\n",
       "    .colab-df-container {\n",
       "      display:flex;\n",
       "      flex-wrap:wrap;\n",
       "      gap: 12px;\n",
       "    }\n",
       "\n",
       "    .colab-df-convert {\n",
       "      background-color: #E8F0FE;\n",
       "      border: none;\n",
       "      border-radius: 50%;\n",
       "      cursor: pointer;\n",
       "      display: none;\n",
       "      fill: #1967D2;\n",
       "      height: 32px;\n",
       "      padding: 0 0 0 0;\n",
       "      width: 32px;\n",
       "    }\n",
       "\n",
       "    .colab-df-convert:hover {\n",
       "      background-color: #E2EBFA;\n",
       "      box-shadow: 0px 1px 2px rgba(60, 64, 67, 0.3), 0px 1px 3px 1px rgba(60, 64, 67, 0.15);\n",
       "      fill: #174EA6;\n",
       "    }\n",
       "\n",
       "    [theme=dark] .colab-df-convert {\n",
       "      background-color: #3B4455;\n",
       "      fill: #D2E3FC;\n",
       "    }\n",
       "\n",
       "    [theme=dark] .colab-df-convert:hover {\n",
       "      background-color: #434B5C;\n",
       "      box-shadow: 0px 1px 3px 1px rgba(0, 0, 0, 0.15);\n",
       "      filter: drop-shadow(0px 1px 2px rgba(0, 0, 0, 0.3));\n",
       "      fill: #FFFFFF;\n",
       "    }\n",
       "  </style>\n",
       "\n",
       "      <script>\n",
       "        const buttonEl =\n",
       "          document.querySelector('#df-e9130aba-b550-44f0-a490-056d9a9c1a95 button.colab-df-convert');\n",
       "        buttonEl.style.display =\n",
       "          google.colab.kernel.accessAllowed ? 'block' : 'none';\n",
       "\n",
       "        async function convertToInteractive(key) {\n",
       "          const element = document.querySelector('#df-e9130aba-b550-44f0-a490-056d9a9c1a95');\n",
       "          const dataTable =\n",
       "            await google.colab.kernel.invokeFunction('convertToInteractive',\n",
       "                                                     [key], {});\n",
       "          if (!dataTable) return;\n",
       "\n",
       "          const docLinkHtml = 'Like what you see? Visit the ' +\n",
       "            '<a target=\"_blank\" href=https://colab.research.google.com/notebooks/data_table.ipynb>data table notebook</a>'\n",
       "            + ' to learn more about interactive tables.';\n",
       "          element.innerHTML = '';\n",
       "          dataTable['output_type'] = 'display_data';\n",
       "          await google.colab.output.renderOutput(dataTable, element);\n",
       "          const docLink = document.createElement('div');\n",
       "          docLink.innerHTML = docLinkHtml;\n",
       "          element.appendChild(docLink);\n",
       "        }\n",
       "      </script>\n",
       "    </div>\n",
       "  </div>\n",
       "  "
      ],
      "text/plain": [
       "         id      name              published_at                created_at  \\\n",
       "0  66729857  Аналитик  2022-06-09T11:33:57+0300  2022-06-09T11:33:57+0300   \n",
       "1  66080005  Аналитик  2022-06-06T13:42:40+0300  2022-06-06T13:42:40+0300   \n",
       "\n",
       "  area-city  salaryfrom  salaryto currency vacancy_type  \\\n",
       "0    Москва    130000.0  180000.0      RUR     Открытая   \n",
       "1    Москва    200000.0       0.0      RUR     Открытая   \n",
       "\n",
       "             address_new                                       employer_new  \\\n",
       "0                                                                'ShinSale'   \n",
       "1   Энергетическая улица   'Научный Центр Автоматизированных систем упра...   \n",
       "\n",
       "                                      Responsibility  \\\n",
       "0   Опыт написания постановок и технической докум...   \n",
       "1   Высшее образование. Опыт работы в ИТ Интеграт...   \n",
       "\n",
       "                                          Requirment  schedule_new  \n",
       "0   Взаимодействовать с командой разработчиков по...   Полный день  \n",
       "1   Участие в проектах по автоматизации процессов...   Полный день  "
      ]
     },
     "execution_count": 19,
     "metadata": {},
     "output_type": "execute_result"
    }
   ],
   "source": [
    "df2['schedule_new'] = df2['schedule_new'].apply(lambda x: x.replace(\"'\", \"\").replace(\"}\", \"\"))\n",
    "df2['Responsibility'] = df2['Responsibility'].apply(lambda x: x.replace(\"'\", \"\"))\n",
    "df2['Requirment'] = df2['Requirment'].apply(lambda x: x.replace(\"'\", \"\") if not pd.isna(x) else '')\n",
    "df2['currency'] = df2['currency'].apply(lambda x: x.replace(\"'\", \"\") if not pd.isna(x) else '')\n",
    "#df2['employer_new'] = df2['employer_new'].apply(lambda x: x.replace(\"'\", \"\").replace(\" \", \"\"))\n",
    "df2['vacancy_type'] = df2['vacancy_type'].apply(lambda x: x.replace(\"'\", \"\").replace(\"}\", \"\"))\n",
    "df2['area-city'] = df2['area-city'].apply(lambda x: x.replace(\"'\", \"\") if not pd.isna(x) else '')\n",
    "df2['address_new'] = df2['address_new'].apply(lambda x: x.replace(\"'\", \"\") if not pd.isna(x) else '')\n",
    "df2.head(2)"
   ]
  },
  {
   "cell_type": "code",
   "execution_count": null,
   "metadata": {
    "colab": {
     "base_uri": "https://localhost:8080/"
    },
    "id": "2AoAVmYCyrFW",
    "outputId": "c799c4ff-572b-4088-f7c8-088e9d40a76c"
   },
   "outputs": [
    {
     "name": "stdout",
     "output_type": "stream",
     "text": [
      "Процент пропущенных значений:\n"
     ]
    },
    {
     "data": {
      "text/plain": [
       "id                 0.000000\n",
       "name               0.000000\n",
       "published_at       0.000000\n",
       "created_at         0.000000\n",
       "area-city          0.000000\n",
       "currency           0.000000\n",
       "vacancy_type       0.000000\n",
       "address_new        0.000000\n",
       "Responsibility     0.000000\n",
       "Requirment         0.000000\n",
       "schedule_new       0.000000\n",
       "employer_new       0.219129\n",
       "salaryfrom        71.049239\n",
       "salaryto          71.049239\n",
       "dtype: float64"
      ]
     },
     "execution_count": 20,
     "metadata": {},
     "output_type": "execute_result"
    }
   ],
   "source": [
    "missing_values = ((df2.isna().sum() / len(df)) * 100).sort_values()\n",
    "print('Процент пропущенных значений:')\n",
    "missing_values"
   ]
  },
  {
   "cell_type": "markdown",
   "metadata": {
    "id": "ogUnXqXsoK0b"
   },
   "source": [
    "### Выгрузка df для BI"
   ]
  },
  {
   "cell_type": "code",
   "execution_count": null,
   "metadata": {
    "id": "BOIk_PcyoK0b"
   },
   "outputs": [],
   "source": [
    "dfspb_msk=df2.copy()\n",
    "dfspb_msk.to_csv('dfspb_mskBI.csv', index=False)"
   ]
  },
  {
   "cell_type": "markdown",
   "metadata": {
    "id": "d8nRKqo_q3RG"
   },
   "source": [
    "## **0. Загрузка датасет, по вакансиям РФ/зарубеж**\n",
    "\n",
    "---\n",
    "\n"
   ]
  },
  {
   "cell_type": "code",
   "execution_count": null,
   "metadata": {
    "colab": {
     "base_uri": "https://localhost:8080/"
    },
    "id": "lJW8v_4qq3RH",
    "outputId": "593e3257-90b3-442c-ecf6-eb3282bb711f"
   },
   "outputs": [
    {
     "data": {
      "text/plain": [
       "(9823, 14)"
      ]
     },
     "execution_count": 22,
     "metadata": {},
     "output_type": "execute_result"
    }
   ],
   "source": [
    "import pandas as pd\n",
    "df = pd.read_csv('FIN-jobs-SALARY.csv') \n",
    "df.shape"
   ]
  },
  {
   "cell_type": "code",
   "execution_count": null,
   "metadata": {
    "colab": {
     "base_uri": "https://localhost:8080/"
    },
    "id": "W_JAF6gmq3RI",
    "outputId": "d9787830-1259-4b16-9442-ffe8791fcefa"
   },
   "outputs": [
    {
     "data": {
      "text/plain": [
       "(9818, 13)"
      ]
     },
     "execution_count": 23,
     "metadata": {},
     "output_type": "execute_result"
    }
   ],
   "source": [
    "df.duplicated()\n",
    "df[df.duplicated()].shape\n",
    "df2 = df.drop_duplicates()\n",
    "df2 = df2.drop(columns=['has_test'])\n",
    "df2.shape"
   ]
  },
  {
   "cell_type": "markdown",
   "metadata": {
    "id": "efiOPeYIq3RL"
   },
   "source": [
    "### удалить пробелы и пр."
   ]
  },
  {
   "cell_type": "code",
   "execution_count": null,
   "metadata": {
    "colab": {
     "base_uri": "https://localhost:8080/"
    },
    "id": "mpI0vn731YKd",
    "outputId": "49f83670-55f4-4612-83cd-f6d473a640e4"
   },
   "outputs": [
    {
     "data": {
      "text/html": [
       "\n",
       "  <div id=\"df-ed612e70-382b-410a-b40f-ed6a91277a8b\">\n",
       "    <div class=\"colab-df-container\">\n",
       "      <div>\n",
       "<style scoped>\n",
       "    .dataframe tbody tr th:only-of-type {\n",
       "        vertical-align: middle;\n",
       "    }\n",
       "\n",
       "    .dataframe tbody tr th {\n",
       "        vertical-align: top;\n",
       "    }\n",
       "\n",
       "    .dataframe thead th {\n",
       "        text-align: right;\n",
       "    }\n",
       "</style>\n",
       "<table border=\"1\" class=\"dataframe\">\n",
       "  <thead>\n",
       "    <tr style=\"text-align: right;\">\n",
       "      <th></th>\n",
       "      <th>id</th>\n",
       "      <th>name</th>\n",
       "      <th>published_at</th>\n",
       "      <th>created_at</th>\n",
       "      <th>area-city</th>\n",
       "      <th>salaryfrom</th>\n",
       "      <th>salaryto</th>\n",
       "      <th>currency</th>\n",
       "      <th>vacancy_type</th>\n",
       "      <th>employer_new</th>\n",
       "      <th>Responsibility</th>\n",
       "      <th>Requirment</th>\n",
       "      <th>schedule_new</th>\n",
       "    </tr>\n",
       "  </thead>\n",
       "  <tbody>\n",
       "    <tr>\n",
       "      <th>0</th>\n",
       "      <td>67462579</td>\n",
       "      <td>Data Engineer</td>\n",
       "      <td>2022-07-04T14:54:36+0300</td>\n",
       "      <td>2022-07-04T14:54:36+0300</td>\n",
       "      <td>Санкт-Петербург</td>\n",
       "      <td>3500.0</td>\n",
       "      <td>5700.0</td>\n",
       "      <td>'EUR'</td>\n",
       "      <td>'Открытая'}</td>\n",
       "      <td>'Plesk'</td>\n",
       "      <td>'Опыт работы с PySpark/EMR. Опыт в написании ...</td>\n",
       "      <td>NaN</td>\n",
       "      <td>'Удаленная работа'}</td>\n",
       "    </tr>\n",
       "    <tr>\n",
       "      <th>1</th>\n",
       "      <td>67465784</td>\n",
       "      <td>Data Scientist ML Engineer (WFH)</td>\n",
       "      <td>2022-07-04T15:50:30+0300</td>\n",
       "      <td>2022-07-04T15:50:30+0300</td>\n",
       "      <td>Санкт-Петербург</td>\n",
       "      <td>2000.0</td>\n",
       "      <td>5000.0</td>\n",
       "      <td>'USD'</td>\n",
       "      <td>'Открытая'}</td>\n",
       "      <td>'Thirdeye Incorporation'</td>\n",
       "      <td>\"Bachelor's Degree in Information Technology ...</td>\n",
       "      <td>NaN</td>\n",
       "      <td>'Полный день'}</td>\n",
       "    </tr>\n",
       "    <tr>\n",
       "      <th>2</th>\n",
       "      <td>67366124</td>\n",
       "      <td>Senior Data Scientist</td>\n",
       "      <td>2022-07-04T14:22:08+0300</td>\n",
       "      <td>2022-07-04T14:22:08+0300</td>\n",
       "      <td>Санкт-Петербург</td>\n",
       "      <td>5200.0</td>\n",
       "      <td>5200.0</td>\n",
       "      <td>'USD'</td>\n",
       "      <td>'Открытая'}</td>\n",
       "      <td>'КСК-Эйч Ар'</td>\n",
       "      <td>'Высшее образование в области компьютерных на...</td>\n",
       "      <td>Python</td>\n",
       "      <td>'Полный день'}</td>\n",
       "    </tr>\n",
       "    <tr>\n",
       "      <th>3</th>\n",
       "      <td>67080509</td>\n",
       "      <td>Senior Data Engineer</td>\n",
       "      <td>2022-07-04T14:22:16+0300</td>\n",
       "      <td>2022-07-04T14:22:16+0300</td>\n",
       "      <td>Санкт-Петербург</td>\n",
       "      <td>4500.0</td>\n",
       "      <td>6000.0</td>\n",
       "      <td>'USD'</td>\n",
       "      <td>'Открытая'}</td>\n",
       "      <td>'КСК-Эйч Ар'</td>\n",
       "      <td>'...Science, &lt;highlighttext&gt;Data&lt;/highlightte...</td>\n",
       "      <td>Commercial experience in &lt;highlighttext&gt;data&lt;...</td>\n",
       "      <td>'Полный день'}</td>\n",
       "    </tr>\n",
       "    <tr>\n",
       "      <th>4</th>\n",
       "      <td>67464969</td>\n",
       "      <td>Frontend-разработчик</td>\n",
       "      <td>2022-07-04T15:37:36+0300</td>\n",
       "      <td>2022-07-04T15:37:36+0300</td>\n",
       "      <td>Санкт-Петербург</td>\n",
       "      <td>80000.0</td>\n",
       "      <td>120000.0</td>\n",
       "      <td>'RUR'</td>\n",
       "      <td>'Открытая'}</td>\n",
       "      <td>'ГК АВТОграф'</td>\n",
       "      <td>'Отличные знания HTML5, CSS3, SASS. Современн...</td>\n",
       "      <td>NaN</td>\n",
       "      <td>'Полный день'}</td>\n",
       "    </tr>\n",
       "    <tr>\n",
       "      <th>...</th>\n",
       "      <td>...</td>\n",
       "      <td>...</td>\n",
       "      <td>...</td>\n",
       "      <td>...</td>\n",
       "      <td>...</td>\n",
       "      <td>...</td>\n",
       "      <td>...</td>\n",
       "      <td>...</td>\n",
       "      <td>...</td>\n",
       "      <td>...</td>\n",
       "      <td>...</td>\n",
       "      <td>...</td>\n",
       "      <td>...</td>\n",
       "    </tr>\n",
       "    <tr>\n",
       "      <th>9818</th>\n",
       "      <td>66796007</td>\n",
       "      <td>SAP разработчик (стажер)</td>\n",
       "      <td>2022-07-04T21:51:03+0300</td>\n",
       "      <td>2022-07-04T21:51:03+0300</td>\n",
       "      <td>Чебоксары</td>\n",
       "      <td>18000.0</td>\n",
       "      <td>25000.0</td>\n",
       "      <td>'RUR'</td>\n",
       "      <td>'Открытая'}</td>\n",
       "      <td>'Интем Лаб'</td>\n",
       "      <td>'Профильная специальность (программирование, ...</td>\n",
       "      <td>NaN</td>\n",
       "      <td>'Полный день'}</td>\n",
       "    </tr>\n",
       "    <tr>\n",
       "      <th>9819</th>\n",
       "      <td>66229671</td>\n",
       "      <td>Программист 1С</td>\n",
       "      <td>2022-07-04T13:08:21+0300</td>\n",
       "      <td>2022-07-04T13:08:21+0300</td>\n",
       "      <td>Киров (Кировская область)</td>\n",
       "      <td>140000.0</td>\n",
       "      <td>NaN</td>\n",
       "      <td>'RUR'</td>\n",
       "      <td>'Открытая'}</td>\n",
       "      <td>'Первый Бит'</td>\n",
       "      <td>'...С</td>\n",
       "      <td>ERP» на уровне &lt;highlighttext&gt;разработчика&lt;/hi...</td>\n",
       "      <td>'Полный день'}</td>\n",
       "    </tr>\n",
       "    <tr>\n",
       "      <th>9820</th>\n",
       "      <td>66700102</td>\n",
       "      <td>Инженер-программист, разработчик Unity</td>\n",
       "      <td>2022-07-04T13:28:13+0300</td>\n",
       "      <td>2022-07-04T13:28:13+0300</td>\n",
       "      <td>Солигорск</td>\n",
       "      <td>1300.0</td>\n",
       "      <td>NaN</td>\n",
       "      <td>'BYR'</td>\n",
       "      <td>'Открытая'}</td>\n",
       "      <td>'КонстантаТайм'</td>\n",
       "      <td>'Преподавать программирование и робототехнику...</td>\n",
       "      <td>NaN</td>\n",
       "      <td>'Полный день'}</td>\n",
       "    </tr>\n",
       "    <tr>\n",
       "      <th>9821</th>\n",
       "      <td>66546741</td>\n",
       "      <td>Аналитик коммерческого отдела</td>\n",
       "      <td>2022-07-02T15:41:35+0300</td>\n",
       "      <td>2022-07-02T15:41:35+0300</td>\n",
       "      <td>Ярославль</td>\n",
       "      <td>40000.0</td>\n",
       "      <td>50000.0</td>\n",
       "      <td>'RUR'</td>\n",
       "      <td>'Открытая'}</td>\n",
       "      <td>'ДУГАЛАК'</td>\n",
       "      <td>'Преимуществом будет являться образование по ...</td>\n",
       "      <td>NaN</td>\n",
       "      <td>'Полный день'}</td>\n",
       "    </tr>\n",
       "    <tr>\n",
       "      <th>9822</th>\n",
       "      <td>67315120</td>\n",
       "      <td>Development Team Lead</td>\n",
       "      <td>2022-07-04T21:24:41+0300</td>\n",
       "      <td>2022-07-04T21:24:41+0300</td>\n",
       "      <td>Ташкент</td>\n",
       "      <td>2000.0</td>\n",
       "      <td>2500.0</td>\n",
       "      <td>'USD'</td>\n",
       "      <td>'Открытая'}</td>\n",
       "      <td>'Muxtarova Anna Irikovna'</td>\n",
       "      <td>'Work experience in web &lt;highlighttext&gt;develo...</td>\n",
       "      <td>'Organization of coding and &lt;highlighttext&gt;de...</td>\n",
       "      <td>'Полный день'}</td>\n",
       "    </tr>\n",
       "  </tbody>\n",
       "</table>\n",
       "<p>9818 rows × 13 columns</p>\n",
       "</div>\n",
       "      <button class=\"colab-df-convert\" onclick=\"convertToInteractive('df-ed612e70-382b-410a-b40f-ed6a91277a8b')\"\n",
       "              title=\"Convert this dataframe to an interactive table.\"\n",
       "              style=\"display:none;\">\n",
       "        \n",
       "  <svg xmlns=\"http://www.w3.org/2000/svg\" height=\"24px\"viewBox=\"0 0 24 24\"\n",
       "       width=\"24px\">\n",
       "    <path d=\"M0 0h24v24H0V0z\" fill=\"none\"/>\n",
       "    <path d=\"M18.56 5.44l.94 2.06.94-2.06 2.06-.94-2.06-.94-.94-2.06-.94 2.06-2.06.94zm-11 1L8.5 8.5l.94-2.06 2.06-.94-2.06-.94L8.5 2.5l-.94 2.06-2.06.94zm10 10l.94 2.06.94-2.06 2.06-.94-2.06-.94-.94-2.06-.94 2.06-2.06.94z\"/><path d=\"M17.41 7.96l-1.37-1.37c-.4-.4-.92-.59-1.43-.59-.52 0-1.04.2-1.43.59L10.3 9.45l-7.72 7.72c-.78.78-.78 2.05 0 2.83L4 21.41c.39.39.9.59 1.41.59.51 0 1.02-.2 1.41-.59l7.78-7.78 2.81-2.81c.8-.78.8-2.07 0-2.86zM5.41 20L4 18.59l7.72-7.72 1.47 1.35L5.41 20z\"/>\n",
       "  </svg>\n",
       "      </button>\n",
       "      \n",
       "  <style>\n",
       "    .colab-df-container {\n",
       "      display:flex;\n",
       "      flex-wrap:wrap;\n",
       "      gap: 12px;\n",
       "    }\n",
       "\n",
       "    .colab-df-convert {\n",
       "      background-color: #E8F0FE;\n",
       "      border: none;\n",
       "      border-radius: 50%;\n",
       "      cursor: pointer;\n",
       "      display: none;\n",
       "      fill: #1967D2;\n",
       "      height: 32px;\n",
       "      padding: 0 0 0 0;\n",
       "      width: 32px;\n",
       "    }\n",
       "\n",
       "    .colab-df-convert:hover {\n",
       "      background-color: #E2EBFA;\n",
       "      box-shadow: 0px 1px 2px rgba(60, 64, 67, 0.3), 0px 1px 3px 1px rgba(60, 64, 67, 0.15);\n",
       "      fill: #174EA6;\n",
       "    }\n",
       "\n",
       "    [theme=dark] .colab-df-convert {\n",
       "      background-color: #3B4455;\n",
       "      fill: #D2E3FC;\n",
       "    }\n",
       "\n",
       "    [theme=dark] .colab-df-convert:hover {\n",
       "      background-color: #434B5C;\n",
       "      box-shadow: 0px 1px 3px 1px rgba(0, 0, 0, 0.15);\n",
       "      filter: drop-shadow(0px 1px 2px rgba(0, 0, 0, 0.3));\n",
       "      fill: #FFFFFF;\n",
       "    }\n",
       "  </style>\n",
       "\n",
       "      <script>\n",
       "        const buttonEl =\n",
       "          document.querySelector('#df-ed612e70-382b-410a-b40f-ed6a91277a8b button.colab-df-convert');\n",
       "        buttonEl.style.display =\n",
       "          google.colab.kernel.accessAllowed ? 'block' : 'none';\n",
       "\n",
       "        async function convertToInteractive(key) {\n",
       "          const element = document.querySelector('#df-ed612e70-382b-410a-b40f-ed6a91277a8b');\n",
       "          const dataTable =\n",
       "            await google.colab.kernel.invokeFunction('convertToInteractive',\n",
       "                                                     [key], {});\n",
       "          if (!dataTable) return;\n",
       "\n",
       "          const docLinkHtml = 'Like what you see? Visit the ' +\n",
       "            '<a target=\"_blank\" href=https://colab.research.google.com/notebooks/data_table.ipynb>data table notebook</a>'\n",
       "            + ' to learn more about interactive tables.';\n",
       "          element.innerHTML = '';\n",
       "          dataTable['output_type'] = 'display_data';\n",
       "          await google.colab.output.renderOutput(dataTable, element);\n",
       "          const docLink = document.createElement('div');\n",
       "          docLink.innerHTML = docLinkHtml;\n",
       "          element.appendChild(docLink);\n",
       "        }\n",
       "      </script>\n",
       "    </div>\n",
       "  </div>\n",
       "  "
      ],
      "text/plain": [
       "            id                                    name  \\\n",
       "0     67462579                           Data Engineer   \n",
       "1     67465784        Data Scientist ML Engineer (WFH)   \n",
       "2     67366124                   Senior Data Scientist   \n",
       "3     67080509                    Senior Data Engineer   \n",
       "4     67464969                    Frontend-разработчик   \n",
       "...        ...                                     ...   \n",
       "9818  66796007                SAP разработчик (стажер)   \n",
       "9819  66229671                          Программист 1С   \n",
       "9820  66700102  Инженер-программист, разработчик Unity   \n",
       "9821  66546741           Аналитик коммерческого отдела   \n",
       "9822  67315120                   Development Team Lead   \n",
       "\n",
       "                  published_at                created_at  \\\n",
       "0     2022-07-04T14:54:36+0300  2022-07-04T14:54:36+0300   \n",
       "1     2022-07-04T15:50:30+0300  2022-07-04T15:50:30+0300   \n",
       "2     2022-07-04T14:22:08+0300  2022-07-04T14:22:08+0300   \n",
       "3     2022-07-04T14:22:16+0300  2022-07-04T14:22:16+0300   \n",
       "4     2022-07-04T15:37:36+0300  2022-07-04T15:37:36+0300   \n",
       "...                        ...                       ...   \n",
       "9818  2022-07-04T21:51:03+0300  2022-07-04T21:51:03+0300   \n",
       "9819  2022-07-04T13:08:21+0300  2022-07-04T13:08:21+0300   \n",
       "9820  2022-07-04T13:28:13+0300  2022-07-04T13:28:13+0300   \n",
       "9821  2022-07-02T15:41:35+0300  2022-07-02T15:41:35+0300   \n",
       "9822  2022-07-04T21:24:41+0300  2022-07-04T21:24:41+0300   \n",
       "\n",
       "                       area-city  salaryfrom  salaryto currency  vacancy_type  \\\n",
       "0                Санкт-Петербург      3500.0    5700.0    'EUR'   'Открытая'}   \n",
       "1                Санкт-Петербург      2000.0    5000.0    'USD'   'Открытая'}   \n",
       "2                Санкт-Петербург      5200.0    5200.0    'USD'   'Открытая'}   \n",
       "3                Санкт-Петербург      4500.0    6000.0    'USD'   'Открытая'}   \n",
       "4                Санкт-Петербург     80000.0  120000.0    'RUR'   'Открытая'}   \n",
       "...                          ...         ...       ...      ...           ...   \n",
       "9818                   Чебоксары     18000.0   25000.0    'RUR'   'Открытая'}   \n",
       "9819   Киров (Кировская область)    140000.0       NaN    'RUR'   'Открытая'}   \n",
       "9820                   Солигорск      1300.0       NaN    'BYR'   'Открытая'}   \n",
       "9821                   Ярославль     40000.0   50000.0    'RUR'   'Открытая'}   \n",
       "9822                     Ташкент      2000.0    2500.0    'USD'   'Открытая'}   \n",
       "\n",
       "                    employer_new  \\\n",
       "0                        'Plesk'   \n",
       "1       'Thirdeye Incorporation'   \n",
       "2                   'КСК-Эйч Ар'   \n",
       "3                   'КСК-Эйч Ар'   \n",
       "4                  'ГК АВТОграф'   \n",
       "...                          ...   \n",
       "9818                 'Интем Лаб'   \n",
       "9819                'Первый Бит'   \n",
       "9820             'КонстантаТайм'   \n",
       "9821                   'ДУГАЛАК'   \n",
       "9822   'Muxtarova Anna Irikovna'   \n",
       "\n",
       "                                         Responsibility  \\\n",
       "0      'Опыт работы с PySpark/EMR. Опыт в написании ...   \n",
       "1      \"Bachelor's Degree in Information Technology ...   \n",
       "2      'Высшее образование в области компьютерных на...   \n",
       "3      '...Science, <highlighttext>Data</highlightte...   \n",
       "4      'Отличные знания HTML5, CSS3, SASS. Современн...   \n",
       "...                                                 ...   \n",
       "9818   'Профильная специальность (программирование, ...   \n",
       "9819                                              '...С   \n",
       "9820   'Преподавать программирование и робототехнику...   \n",
       "9821   'Преимуществом будет являться образование по ...   \n",
       "9822   'Work experience in web <highlighttext>develo...   \n",
       "\n",
       "                                             Requirment          schedule_new  \n",
       "0                                                   NaN   'Удаленная работа'}  \n",
       "1                                                   NaN        'Полный день'}  \n",
       "2                                                Python        'Полный день'}  \n",
       "3      Commercial experience in <highlighttext>data<...        'Полный день'}  \n",
       "4                                                   NaN        'Полный день'}  \n",
       "...                                                 ...                   ...  \n",
       "9818                                                NaN        'Полный день'}  \n",
       "9819  ERP» на уровне <highlighttext>разработчика</hi...        'Полный день'}  \n",
       "9820                                                NaN        'Полный день'}  \n",
       "9821                                                NaN        'Полный день'}  \n",
       "9822   'Organization of coding and <highlighttext>de...        'Полный день'}  \n",
       "\n",
       "[9818 rows x 13 columns]"
      ]
     },
     "execution_count": 24,
     "metadata": {},
     "output_type": "execute_result"
    }
   ],
   "source": [
    "df2"
   ]
  },
  {
   "cell_type": "code",
   "execution_count": null,
   "metadata": {
    "colab": {
     "base_uri": "https://localhost:8080/"
    },
    "id": "Ka-2oV4-q3RM",
    "outputId": "0dbf0077-56a4-4672-c9db-e1829142b849"
   },
   "outputs": [
    {
     "data": {
      "text/plain": [
       "(9818, 13)"
      ]
     },
     "execution_count": 25,
     "metadata": {},
     "output_type": "execute_result"
    }
   ],
   "source": [
    "#df2['schedule_new'] = df2['schedule_new'].apply(lambda x: x.replace(\"'\", \"\").replace(\"}\", \"\"))\n",
    "df2['Responsibility'] = df2['Responsibility'].apply(lambda x: x.replace(\"'\", \"\"))\n",
    "df2['Requirment'] = df2['Requirment'].apply(lambda x: x.replace(\"'\", \"\") if not pd.isna(x) else '')\n",
    "df2['currency'] = df2['currency'].apply(lambda x: x.replace(\"'\", \"\") if not pd.isna(x) else '')\n",
    "df2['currency'] = df2['currency'].apply(lambda x: x.replace(\" \", \"\"))\n",
    "df2['currency'] = df2['currency'].apply(lambda x: x.replace(\" \", \"\"))\n",
    "df2['employer_new'] = df2['employer_new'].apply(lambda x: x.replace(\"'\", \"\") if not pd.isna(x) else '')\n",
    "df2['employer_new'] = df2['employer_new'].apply(lambda x: x.replace(\" \", \"\"))\n",
    "df2['vacancy_type'] = df2['vacancy_type'].apply(lambda x: x.replace(\"'\", \"\").replace(\"}\", \"\"))\n",
    "df2['area-city'] = df2['area-city'].apply(lambda x: x.replace(\" \", \"\"))\n",
    "df2['employer_new'] = df2['employer_new'].apply(lambda x: x.replace(\"Profilance Group (ИП Страмоусов Марк Петрович)\", \"Profilance Group\"))\n",
    "df2['employer_new'] = df2['employer_new'].apply(lambda x: x.replace(\"ProfilanceGroup\", \"ProfilanceGroup\"))\n",
    "df2['employer_new'] = df2['employer_new'].apply(lambda x: x.replace(\"СпециальныйТехнологическийЦентр(ОООСТЦ)\", \"СТЦ\"))\n",
    "df2['schedule_new'] = df2['schedule_new'].apply(lambda x: x.replace(\"'\", \"\"))\n",
    "df2['schedule_new'] = df2['schedule_new'].apply(lambda x: x.replace(\"}\", \"\"))\n",
    "df2.shape"
   ]
  },
  {
   "cell_type": "markdown",
   "metadata": {
    "id": "il7slZ5LJuI9"
   },
   "source": [
    "### удалить ненужные вакансии, не относящиеся к IT"
   ]
  },
  {
   "cell_type": "code",
   "execution_count": null,
   "metadata": {
    "colab": {
     "base_uri": "https://localhost:8080/",
     "height": 218
    },
    "id": "7Ck4u-la_Wf9",
    "outputId": "fce4be7d-94fb-4056-8550-3b4fc46c220f"
   },
   "outputs": [
    {
     "ename": "NameError",
     "evalue": "ignored",
     "output_type": "error",
     "traceback": [
      "\u001b[0;31m---------------------------------------------------------------------------\u001b[0m",
      "\u001b[0;31mNameError\u001b[0m                                 Traceback (most recent call last)",
      "\u001b[0;32m<ipython-input-1-6c65cb009a72>\u001b[0m in \u001b[0;36m<module>\u001b[0;34m\u001b[0m\n\u001b[0;32m----> 1\u001b[0;31m \u001b[0mmask\u001b[0m \u001b[0;34m=\u001b[0m \u001b[0mdf2\u001b[0m\u001b[0;34m[\u001b[0m\u001b[0;34m'name'\u001b[0m\u001b[0;34m]\u001b[0m\u001b[0;34m.\u001b[0m\u001b[0mstr\u001b[0m\u001b[0;34m.\u001b[0m\u001b[0mcontains\u001b[0m\u001b[0;34m(\u001b[0m\u001b[0;34m'Фармацевт'\u001b[0m\u001b[0;34m)\u001b[0m\u001b[0;34m\u001b[0m\u001b[0;34m\u001b[0m\u001b[0m\n\u001b[0m\u001b[1;32m      2\u001b[0m \u001b[0midx\u001b[0m \u001b[0;34m=\u001b[0m \u001b[0mdf2\u001b[0m\u001b[0;34m.\u001b[0m\u001b[0mindex\u001b[0m\u001b[0;34m[\u001b[0m\u001b[0mmask\u001b[0m\u001b[0;34m]\u001b[0m\u001b[0;34m\u001b[0m\u001b[0;34m\u001b[0m\u001b[0m\n\u001b[1;32m      3\u001b[0m \u001b[0mdf2\u001b[0m \u001b[0;34m=\u001b[0m \u001b[0mdf\u001b[0m\u001b[0;34m.\u001b[0m\u001b[0mcopy\u001b[0m\u001b[0;34m(\u001b[0m\u001b[0midx\u001b[0m\u001b[0;34m,\u001b[0m\u001b[0maxis\u001b[0m\u001b[0;34m=\u001b[0m\u001b[0;36m0\u001b[0m\u001b[0;34m)\u001b[0m\u001b[0;34m\u001b[0m\u001b[0;34m\u001b[0m\u001b[0m\n\u001b[1;32m      4\u001b[0m \u001b[0mdf2\u001b[0m\u001b[0;34m.\u001b[0m\u001b[0mshape\u001b[0m\u001b[0;34m\u001b[0m\u001b[0;34m\u001b[0m\u001b[0m\n",
      "\u001b[0;31mNameError\u001b[0m: name 'df2' is not defined"
     ]
    }
   ],
   "source": [
    "mask = df2['name'].str.contains('Фармацевт')\n",
    "idx = df2.index[mask]\n",
    "df2 = df2.drop(idx,axis=0)\n",
    "df2.shape"
   ]
  },
  {
   "cell_type": "markdown",
   "metadata": {
    "id": "7IKa7Ko4JtNL"
   },
   "source": []
  },
  {
   "cell_type": "code",
   "execution_count": null,
   "metadata": {
    "colab": {
     "base_uri": "https://localhost:8080/"
    },
    "id": "3pOtjNyN_cBY",
    "outputId": "8fbf6bf5-596c-4ff7-dae2-1688139939a2"
   },
   "outputs": [
    {
     "data": {
      "text/plain": [
       "(9742, 13)"
      ]
     },
     "execution_count": 27,
     "metadata": {},
     "output_type": "execute_result"
    }
   ],
   "source": [
    "mask2 = df2['name'].str.contains(' ресторан')\n",
    "idx2 = df2.index[mask2]\n",
    "df2 = df2.drop(idx2,axis=0)\n",
    "df2.shape"
   ]
  },
  {
   "cell_type": "code",
   "execution_count": null,
   "metadata": {
    "colab": {
     "base_uri": "https://localhost:8080/"
    },
    "id": "YwKOQkHS_h3u",
    "outputId": "ad774757-7022-4173-c489-998c603bcb94"
   },
   "outputs": [
    {
     "data": {
      "text/plain": [
       "(9736, 13)"
      ]
     },
     "execution_count": 28,
     "metadata": {},
     "output_type": "execute_result"
    }
   ],
   "source": [
    "mask3 = df2['name'].str.contains('Кладовщик')\n",
    "idx3 = df2.index[mask3]\n",
    "df2 = df2.drop(idx3,axis=0)\n",
    "df2.shape"
   ]
  },
  {
   "cell_type": "code",
   "execution_count": null,
   "metadata": {
    "colab": {
     "base_uri": "https://localhost:8080/"
    },
    "id": "qwtOAU4H_l9t",
    "outputId": "1e16ac86-6528-481e-dcf4-b0e20a4c81d1"
   },
   "outputs": [
    {
     "data": {
      "text/plain": [
       "(9727, 13)"
      ]
     },
     "execution_count": 29,
     "metadata": {},
     "output_type": "execute_result"
    }
   ],
   "source": [
    "mask4 = df2['name'].str.contains('Фасовщик')\n",
    "idx4 = df2.index[mask4]\n",
    "df2 = df2.drop(idx4,axis=0)\n",
    "df2.shape"
   ]
  },
  {
   "cell_type": "code",
   "execution_count": null,
   "metadata": {
    "colab": {
     "base_uri": "https://localhost:8080/"
    },
    "id": "KQUF6nUw_skD",
    "outputId": "5fc9d7be-8dd5-433e-c503-91caad1d66f7"
   },
   "outputs": [
    {
     "data": {
      "text/plain": [
       "(9718, 13)"
      ]
     },
     "execution_count": 30,
     "metadata": {},
     "output_type": "execute_result"
    }
   ],
   "source": [
    "mask5 = df2['name'].str.contains(' курьер')\n",
    "idx5 = df2.index[mask5]\n",
    "df2 = df2.drop(idx5,axis=0)\n",
    "df2.shape"
   ]
  },
  {
   "cell_type": "code",
   "execution_count": null,
   "metadata": {
    "colab": {
     "base_uri": "https://localhost:8080/"
    },
    "id": "J62gtsaQ_waR",
    "outputId": "8d7eb7a2-9164-46b4-b9b8-f638cd06e048"
   },
   "outputs": [
    {
     "data": {
      "text/plain": [
       "(9716, 13)"
      ]
     },
     "execution_count": 31,
     "metadata": {},
     "output_type": "execute_result"
    }
   ],
   "source": [
    "mask6 = df2['name'].str.contains('Медицинский')\n",
    "idx6 = df2.index[mask6]\n",
    "df2 = df2.drop(idx6,axis=0)\n",
    "df2.shape"
   ]
  },
  {
   "cell_type": "code",
   "execution_count": null,
   "metadata": {
    "colab": {
     "base_uri": "https://localhost:8080/"
    },
    "id": "3Zp74GiHABgH",
    "outputId": "41df57b3-5ebd-477b-e679-3ad5d292107e"
   },
   "outputs": [
    {
     "data": {
      "text/plain": [
       "(9707, 13)"
      ]
     },
     "execution_count": 32,
     "metadata": {},
     "output_type": "execute_result"
    }
   ],
   "source": [
    "mask7 = df2['name'].str.contains('поиску коммерческой недвижимост')\n",
    "idx7 = df2.index[mask7]\n",
    "df2 = df2.drop(idx7,axis=0)\n",
    "df2.shape"
   ]
  },
  {
   "cell_type": "code",
   "execution_count": null,
   "metadata": {
    "colab": {
     "base_uri": "https://localhost:8080/"
    },
    "id": "ZAUfAPFi_PCk",
    "outputId": "4eeb22bd-3fa0-4661-e3be-146c2f11d6a4"
   },
   "outputs": [
    {
     "data": {
      "text/plain": [
       "(9707, 13)"
      ]
     },
     "execution_count": 33,
     "metadata": {},
     "output_type": "execute_result"
    }
   ],
   "source": [
    "mask8 = df2['employer_new'].str.contains('Job development')\n",
    "idx8 = df2.index[mask8]\n",
    "df2 = df2.drop(idx8,axis=0)\n",
    "df2.shape"
   ]
  },
  {
   "cell_type": "code",
   "execution_count": null,
   "metadata": {
    "colab": {
     "base_uri": "https://localhost:8080/"
    },
    "id": "uElkYR3aAugS",
    "outputId": "df15335e-edee-4920-d929-85831d5aa89c"
   },
   "outputs": [
    {
     "data": {
      "text/plain": [
       "(9678, 13)"
      ]
     },
     "execution_count": 34,
     "metadata": {},
     "output_type": "execute_result"
    }
   ],
   "source": [
    "mask9 = df2['employer_new'].str.contains('HRDevelopment')\n",
    "idx9 = df2.index[mask9]\n",
    "df2 = df2.drop(idx9,axis=0)\n",
    "df2.shape"
   ]
  },
  {
   "cell_type": "code",
   "execution_count": null,
   "metadata": {
    "colab": {
     "base_uri": "https://localhost:8080/"
    },
    "id": "9l0JIg0WBcb_",
    "outputId": "f84121e8-6d9b-482e-eb46-22af8059b70a"
   },
   "outputs": [
    {
     "data": {
      "text/plain": [
       "(9649, 13)"
      ]
     },
     "execution_count": 35,
     "metadata": {},
     "output_type": "execute_result"
    }
   ],
   "source": [
    "mask10 = df2['employer_new'].str.contains('ТАТТЕЛЕКОМ')\n",
    "idx10 = df2.index[mask10]\n",
    "df2 = df2.drop(idx10,axis=0)\n",
    "df2.shape"
   ]
  },
  {
   "cell_type": "code",
   "execution_count": null,
   "metadata": {
    "colab": {
     "base_uri": "https://localhost:8080/"
    },
    "id": "XK-EWeYfDXiV",
    "outputId": "63e80bb5-495f-4a8e-8d50-a7ac6c3046a4"
   },
   "outputs": [
    {
     "data": {
      "text/plain": [
       "(9433, 13)"
      ]
     },
     "execution_count": 36,
     "metadata": {},
     "output_type": "execute_result"
    }
   ],
   "source": [
    "mask11 = df2['employer_new'].str.contains('Jobdevelopment')\n",
    "idx11 = df2.index[mask11]\n",
    "df2 = df2.drop(idx11,axis=0)\n",
    "df2.shape"
   ]
  },
  {
   "cell_type": "markdown",
   "metadata": {
    "id": "TlxdFxBdC3rF"
   },
   "source": [
    "### валютные df"
   ]
  },
  {
   "cell_type": "code",
   "execution_count": null,
   "metadata": {
    "colab": {
     "base_uri": "https://localhost:8080/"
    },
    "id": "pPwuwURWCstq",
    "outputId": "889b57ee-47ea-4525-bd55-87c70e6a4a8b"
   },
   "outputs": [
    {
     "data": {
      "text/plain": [
       "(8979, 13)"
      ]
     },
     "execution_count": 37,
     "metadata": {},
     "output_type": "execute_result"
    }
   ],
   "source": [
    "dfrub = df2[df2['currency']=='RUR']\n",
    "dfrub.shape\n",
    "dfeur = df2[df2['currency']=='EUR']\n",
    "dfeur.shape\n",
    "dfusd = df2[df2['currency']=='USD']\n",
    "dfusd.shape    \n",
    "dfkzt = df2[df2['currency']=='KZT']\n",
    "dfkzt.shape  \n",
    "dfrub.shape\n"
   ]
  },
  {
   "cell_type": "markdown",
   "metadata": {
    "id": "udyeEsbnbeUM"
   },
   "source": [
    "### города df"
   ]
  },
  {
   "cell_type": "code",
   "execution_count": null,
   "metadata": {
    "colab": {
     "base_uri": "https://localhost:8080/"
    },
    "id": "aiYR75yobeUO",
    "outputId": "f639fb91-f8dc-426a-cca6-df2d1e6baee7"
   },
   "outputs": [
    {
     "name": "stderr",
     "output_type": "stream",
     "text": [
      "/usr/local/lib/python3.7/dist-packages/ipykernel_launcher.py:6: SettingWithCopyWarning: \n",
      "A value is trying to be set on a copy of a slice from a DataFrame.\n",
      "Try using .loc[row_indexer,col_indexer] = value instead\n",
      "\n",
      "See the caveats in the documentation: https://pandas.pydata.org/pandas-docs/stable/user_guide/indexing.html#returning-a-view-versus-a-copy\n",
      "  \n"
     ]
    },
    {
     "data": {
      "text/plain": [
       "(548, 14)"
      ]
     },
     "execution_count": 38,
     "metadata": {},
     "output_type": "execute_result"
    }
   ],
   "source": [
    "cities = ['Москва', 'Санкт-Петербург', 'Екатеринбург', 'Казань', 'Ростов-на-Дону', 'НижнийНовгород', 'Челябинск', 'Уфа', 'Самара', 'Красноярск', 'Тюмень', 'Омск']\n",
    "filter = dfrub['area-city'].isin(cities)\n",
    "dfTOP12cities = dfrub[filter]\n",
    "dfTOP12cities.shape\n",
    "\n",
    "dfTOP12cities['title_provider_counts'] = dfTOP12cities.groupby(['employer_new'])['employer_new'].transform('count')\n",
    "mask = dfTOP12cities['title_provider_counts'] > 22\n",
    "dfTOP10 = dfTOP12cities[mask] \n",
    "dfTOP10.shape"
   ]
  },
  {
   "cell_type": "markdown",
   "metadata": {
    "id": "bDAMPNuaruIr"
   },
   "source": [
    "### пропущенные значения"
   ]
  },
  {
   "cell_type": "code",
   "execution_count": null,
   "metadata": {
    "colab": {
     "base_uri": "https://localhost:8080/"
    },
    "id": "78mVY-Vxq3RV",
    "outputId": "3e380096-85e9-4259-e618-81f97424335a"
   },
   "outputs": [
    {
     "name": "stdout",
     "output_type": "stream",
     "text": [
      "Процент пропущенных значений:\n"
     ]
    },
    {
     "data": {
      "text/plain": [
       "id                        0.000000\n",
       "name                      0.000000\n",
       "published_at              0.000000\n",
       "created_at                0.000000\n",
       "area-city                 0.000000\n",
       "currency                  0.000000\n",
       "vacancy_type              0.000000\n",
       "employer_new              0.000000\n",
       "Responsibility            0.000000\n",
       "Requirment                0.000000\n",
       "schedule_new              0.000000\n",
       "title_provider_counts     0.000000\n",
       "salaryfrom               11.721951\n",
       "salaryto                 44.575129\n",
       "dtype: float64"
      ]
     },
     "execution_count": 39,
     "metadata": {},
     "output_type": "execute_result"
    }
   ],
   "source": [
    "missing_values = ((dfTOP12cities.isna().sum() / len(dfTOP12cities)) * 100).sort_values()\n",
    "print('Процент пропущенных значений:')\n",
    "missing_values"
   ]
  },
  {
   "cell_type": "markdown",
   "metadata": {
    "id": "wuh9MHwB28Kj"
   },
   "source": [
    "### OHE Категориальных"
   ]
  },
  {
   "cell_type": "code",
   "execution_count": null,
   "metadata": {
    "colab": {
     "base_uri": "https://localhost:8080/"
    },
    "id": "IyJ6KcLd4QBJ",
    "outputId": "39c09cae-ba27-458a-d9bc-3cd567131682"
   },
   "outputs": [
    {
     "name": "stdout",
     "output_type": "stream",
     "text": [
      "<class 'pandas.core.frame.DataFrame'>\n",
      "Int64Index: 7567 entries, 4 to 9794\n",
      "Data columns (total 14 columns):\n",
      " #   Column                 Non-Null Count  Dtype  \n",
      "---  ------                 --------------  -----  \n",
      " 0   id                     7567 non-null   int64  \n",
      " 1   name                   7567 non-null   object \n",
      " 2   published_at           7567 non-null   object \n",
      " 3   created_at             7567 non-null   object \n",
      " 4   area-city              7567 non-null   object \n",
      " 5   salaryfrom             6680 non-null   float64\n",
      " 6   salaryto               4194 non-null   float64\n",
      " 7   currency               7567 non-null   object \n",
      " 8   vacancy_type           7567 non-null   object \n",
      " 9   employer_new           7567 non-null   object \n",
      " 10  Responsibility         7567 non-null   object \n",
      " 11  Requirment             7567 non-null   object \n",
      " 12  schedule_new           7567 non-null   object \n",
      " 13  title_provider_counts  7567 non-null   int64  \n",
      "dtypes: float64(2), int64(2), object(10)\n",
      "memory usage: 886.8+ KB\n"
     ]
    },
    {
     "name": "stderr",
     "output_type": "stream",
     "text": [
      "/usr/local/lib/python3.7/dist-packages/ipykernel_launcher.py:3: SettingWithCopyWarning: \n",
      "A value is trying to be set on a copy of a slice from a DataFrame.\n",
      "Try using .loc[row_indexer,col_indexer] = value instead\n",
      "\n",
      "See the caveats in the documentation: https://pandas.pydata.org/pandas-docs/stable/user_guide/indexing.html#returning-a-view-versus-a-copy\n",
      "  This is separate from the ipykernel package so we can avoid doing imports until\n"
     ]
    },
    {
     "data": {
      "text/plain": [
       "(548, 14)"
      ]
     },
     "execution_count": 40,
     "metadata": {},
     "output_type": "execute_result"
    }
   ],
   "source": [
    "dfTOP12cities.info()\n",
    "dfTOP12cities\n",
    "dfTOP12cities['title_provider_counts'] = dfTOP12cities.groupby(['employer_new'])['employer_new'].transform('count')\n",
    "mask = dfTOP12cities['title_provider_counts'] > 22\n",
    "dfTOP10provider = dfTOP12cities[mask] \n",
    "dfTOP10provider.shape"
   ]
  },
  {
   "cell_type": "code",
   "execution_count": null,
   "metadata": {
    "colab": {
     "base_uri": "https://localhost:8080/"
    },
    "id": "JbgJP0CL28Kp",
    "outputId": "6647a272-f408-4d23-c0fc-64701e5e8486"
   },
   "outputs": [
    {
     "data": {
      "text/plain": [
       "array([' Полный день', ' Гибкий график', ' Удаленная работа',\n",
       "       ' Сменный график'], dtype=object)"
      ]
     },
     "execution_count": 41,
     "metadata": {},
     "output_type": "execute_result"
    }
   ],
   "source": [
    "from sklearn.preprocessing import OneHotEncoder\n",
    "ohe = OneHotEncoder(sparse=False)\n",
    "dfTOP10provider.schedule_new.unique()\n"
   ]
  },
  {
   "cell_type": "code",
   "execution_count": null,
   "metadata": {
    "colab": {
     "base_uri": "https://localhost:8080/"
    },
    "id": "ZJfekNvh3A4x",
    "outputId": "56b4bdf1-f79e-4619-d487-000e1c0dfbc0"
   },
   "outputs": [
    {
     "data": {
      "text/plain": [
       "OneHotEncoder(sparse=False)"
      ]
     },
     "execution_count": 42,
     "metadata": {},
     "output_type": "execute_result"
    }
   ],
   "source": [
    "ohe.fit(dfTOP10provider[['schedule_new']])"
   ]
  },
  {
   "cell_type": "code",
   "execution_count": null,
   "metadata": {
    "colab": {
     "base_uri": "https://localhost:8080/"
    },
    "id": "hukuArHE3n8c",
    "outputId": "37425f58-9f7e-4a3b-be7e-4e7f19368951"
   },
   "outputs": [
    {
     "data": {
      "text/plain": [
       "array([[0., 1., 0., 0.],\n",
       "       [0., 1., 0., 0.],\n",
       "       [0., 1., 0., 0.],\n",
       "       ...,\n",
       "       [0., 1., 0., 0.],\n",
       "       [0., 1., 0., 0.],\n",
       "       [0., 1., 0., 0.]])"
      ]
     },
     "execution_count": 43,
     "metadata": {},
     "output_type": "execute_result"
    }
   ],
   "source": [
    "ohe_shedule = ohe.transform(dfTOP10provider[['schedule_new']])\n",
    "ohe_shedule"
   ]
  },
  {
   "cell_type": "code",
   "execution_count": null,
   "metadata": {
    "colab": {
     "base_uri": "https://localhost:8080/"
    },
    "id": "8kYMso7g4rYO",
    "outputId": "854ef760-d409-4283-f56b-22ccce420dd0"
   },
   "outputs": [
    {
     "name": "stderr",
     "output_type": "stream",
     "text": [
      "/usr/local/lib/python3.7/dist-packages/sklearn/utils/deprecation.py:87: FutureWarning: Function get_feature_names is deprecated; get_feature_names is deprecated in 1.0 and will be removed in 1.2. Please use get_feature_names_out instead.\n",
      "  warnings.warn(msg, category=FutureWarning)\n",
      "/usr/local/lib/python3.7/dist-packages/pandas/core/frame.py:3678: SettingWithCopyWarning: \n",
      "A value is trying to be set on a copy of a slice from a DataFrame.\n",
      "Try using .loc[row_indexer,col_indexer] = value instead\n",
      "\n",
      "See the caveats in the documentation: https://pandas.pydata.org/pandas-docs/stable/user_guide/indexing.html#returning-a-view-versus-a-copy\n",
      "  self[col] = igetitem(value, i)\n"
     ]
    }
   ],
   "source": [
    "ohe.get_feature_names()\n",
    "dfTOP10provider[ohe.get_feature_names()] = ohe_shedule"
   ]
  },
  {
   "cell_type": "markdown",
   "metadata": {
    "id": "QT1G70LILdxQ"
   },
   "source": [
    "### Выгрузка df для BI"
   ]
  },
  {
   "cell_type": "code",
   "execution_count": null,
   "metadata": {
    "id": "LjmoGMueLdxR"
   },
   "outputs": [],
   "source": [
    "dfvacancy_all = df2.copy()\n",
    "dfvacancy_all.to_csv('dfvacancy_allBI.csv', index=False)\n",
    "\n",
    "dfrub.to_csv('dfvacancy_rubBI.csv', index=False)\n",
    "dfeur.to_csv('dfvacancy_eurBI.csv', index=False)\n",
    "dfusd.to_csv('dfvacancy_usdBI.csv', index=False)\n",
    "dfkzt.to_csv('dfvacancy_kztBI.csv', index=False)\n",
    "dfTOP12cities.to_csv('dfvacancy_top12_citiesBI.csv', index=False)\n",
    "dfTOP10.to_csv('dfvacancy_top10_compBI.csv', index=False)"
   ]
  },
  {
   "cell_type": "markdown",
   "metadata": {
    "id": "CVsl2I7f3pUG"
   },
   "source": []
  },
  {
   "cell_type": "markdown",
   "metadata": {
    "id": "D2i-T3HlsOkt"
   },
   "source": [
    "## **Гипотеза 1: Цена за курс напрямую зависит от его продолжительности.**\n",
    "\n",
    "---\n",
    "\n",
    "\n",
    "price_total vs duration\n"
   ]
  },
  {
   "cell_type": "markdown",
   "metadata": {
    "id": "I6qqa_CaYSDC"
   },
   "source": [
    "### Структурированные данные для проверки гипотезы 1, Тип данных - количественный"
   ]
  },
  {
   "cell_type": "code",
   "execution_count": null,
   "metadata": {
    "id": "2UjxonA9zirb"
   },
   "outputs": [],
   "source": [
    "dfcourse['title_provider_counts'] = dfcourse.groupby(['title_provider'])['title_provider'].transform('count')\n",
    "mask = dfcourse['title_provider_counts'] > 10\n",
    "dfTOP10 = dfcourse[mask] \n",
    "dfpricecut = dfTOP10[dfTOP10['price_total']<500000]\n",
    "dfzero = dfpricecut[dfpricecut['price_total']!=0]"
   ]
  },
  {
   "cell_type": "code",
   "execution_count": null,
   "metadata": {
    "colab": {
     "base_uri": "https://localhost:8080/"
    },
    "id": "T0gh9cEh1jL1",
    "outputId": "52d957ce-f704-4fe8-dbb7-7f8e086f89b3"
   },
   "outputs": [
    {
     "data": {
      "text/plain": [
       "(271, 33)"
      ]
     },
     "execution_count": 88,
     "metadata": {},
     "output_type": "execute_result"
    }
   ],
   "source": [
    "provaiders = ['Skillbox', 'GeekBrains', 'SkillFactory', 'Нетология']\n",
    "filter = dfzero['title_provider'].isin(provaiders)\n",
    "dftop4 = dfzero[filter]\n",
    "dftop4.shape"
   ]
  },
  {
   "cell_type": "code",
   "execution_count": null,
   "metadata": {
    "colab": {
     "base_uri": "https://localhost:8080/"
    },
    "id": "bvJhsj2JW4T1",
    "outputId": "70e17c6b-793d-4be1-e460-433493c622fd"
   },
   "outputs": [
    {
     "name": "stdout",
     "output_type": "stream",
     "text": [
      "<class 'pandas.core.frame.DataFrame'>\n",
      "Int64Index: 354 entries, 0 to 419\n",
      "Data columns (total 33 columns):\n",
      " #   Column                 Non-Null Count  Dtype  \n",
      "---  ------                 --------------  -----  \n",
      " 0   duration               354 non-null    int64  \n",
      " 1   rating                 354 non-null    float64\n",
      " 2   title_course           354 non-null    object \n",
      " 3   title_provider         354 non-null    object \n",
      " 4   price_total            354 non-null    float64\n",
      " 5   price_discount         354 non-null    float64\n",
      " 6   x0_CodeStar            354 non-null    float64\n",
      " 7   x0_Cпециалист.ру       354 non-null    float64\n",
      " 8   x0_FructCode           354 non-null    float64\n",
      " 9   x0_GeekBrains          354 non-null    float64\n",
      " 10  x0_HEDU                354 non-null    float64\n",
      " 11  x0_Hedu                354 non-null    float64\n",
      " 12  x0_LoftSchool          354 non-null    float64\n",
      " 13  x0_MDA                 354 non-null    float64\n",
      " 14  x0_NordicIT            354 non-null    float64\n",
      " 15  x0_OTUS                354 non-null    float64\n",
      " 16  x0_ProductStar         354 non-null    float64\n",
      " 17  x0_SFEducation         354 non-null    float64\n",
      " 18  x0_SkillFactory        354 non-null    float64\n",
      " 19  x0_Skillbox            354 non-null    float64\n",
      " 20  x0_Skypro              354 non-null    float64\n",
      " 21  x0_Skysmart            354 non-null    float64\n",
      " 22  x0_Udemy               354 non-null    float64\n",
      " 23  x0_XYZSchool           354 non-null    float64\n",
      " 24  x0_robot_dreams        354 non-null    float64\n",
      " 25  x0_АкадемииЛАНИТ       354 non-null    float64\n",
      " 26  x0_Бруноям             354 non-null    float64\n",
      " 27  x0_Делосистемы         354 non-null    float64\n",
      " 28  x0_МихаилаРусакова     354 non-null    float64\n",
      " 29  x0_Нетология           354 non-null    float64\n",
      " 30  x0_Слёрм               354 non-null    float64\n",
      " 31  x0_ЯндексПрактикум     354 non-null    float64\n",
      " 32  title_provider_counts  354 non-null    int64  \n",
      "dtypes: float64(29), int64(2), object(2)\n",
      "memory usage: 94.0+ KB\n"
     ]
    }
   ],
   "source": [
    "dfzero.info()"
   ]
  },
  {
   "cell_type": "code",
   "execution_count": null,
   "metadata": {
    "colab": {
     "base_uri": "https://localhost:8080/"
    },
    "id": "6-p9putNXNOu",
    "outputId": "bebc38bb-9268-4c7b-837d-5b11c8e007be"
   },
   "outputs": [
    {
     "data": {
      "image/png": "[encoded data removed]",
      "text/plain": [
       "<Figure size 1296x648 with 1 Axes>"
      ]
     },
     "metadata": {},
     "output_type": "display_data"
    }
   ],
   "source": [
    "#Визуализация\n",
    "import seaborn as sns\n",
    "import matplotlib.pyplot as plt\n",
    "import numpy as np\n",
    "import pandas as pd\n",
    "import scipy\n",
    "import scipy.stats as stats\n",
    "import sklearn.linear_model as lm\n",
    "from matplotlib import pyplot\n",
    "sns.boxplot(x='duration', y=\"price_total\", data=dfzero)\n",
    "plt.xticks(rotation=65, ha = 'right')\n",
    "\n",
    "sns.set(rc={'figure.figsize':(18,8.27)})\n",
    "plt.title('Зависимость продолжительности курса от его стоимости')\n",
    "\n",
    "plt.show()"
   ]
  },
  {
   "cell_type": "code",
   "execution_count": null,
   "metadata": {
    "colab": {
     "base_uri": "https://localhost:8080/"
    },
    "id": "X3PFTQyA1faV",
    "outputId": "e82550e4-3dc0-41f1-fff3-68d5513f8327"
   },
   "outputs": [
    {
     "data": {
      "image/png": "[encoded data removed]",
      "text/plain": [
       "<Figure size 1296x595.44 with 1 Axes>"
      ]
     },
     "metadata": {},
     "output_type": "display_data"
    }
   ],
   "source": [
    "sns.boxplot(x='duration', y=\"price_total\", data=dftop4)\n",
    "plt.xticks(rotation=65, ha = 'right')\n",
    "\n",
    "sns.set(rc={'figure.figsize':(18,9)})\n",
    "plt.title('Зависимость продолжительности курса от его стоимости')\n",
    "\n",
    "plt.show()"
   ]
  },
  {
   "cell_type": "markdown",
   "metadata": {
    "id": "xyw1q-lfYMEi"
   },
   "source": [
    "### Проверка нормальности по критерию Шапиро-Уилка\n",
    "\n",
    "По обоим параметрам (длительность курса, стоимость курса) значения pvalue меньше 5%, что значит мы не можем принять нулевую гипотезу Но и данные не распределены нормально, принимает альтернативную гипотезу Н1\n",
    "\n",
    "Далее нужно понять сколь групп и зависисы ли выборки, чтобы определить какой метод расчета использовать\n",
    "\n",
    "Нужно сделать анализ влияния категориальных признаков. Критерии сравнения групп"
   ]
  },
  {
   "cell_type": "code",
   "execution_count": null,
   "metadata": {
    "colab": {
     "base_uri": "https://localhost:8080/"
    },
    "id": "0_KIj9OMYkK6",
    "outputId": "240de0d5-128e-4dbb-d676-4486893160f3"
   },
   "outputs": [
    {
     "name": "stdout",
     "output_type": "stream",
     "text": [
      "Продолжительность курса критерий Шапиро-Уилка ShapiroResult(statistic=0.8861674666404724, pvalue=1.4884413409034492e-15)\n",
      "Продолжительность курса коэффициент асимметрии 0.9712199995254037\n",
      "Продолжительность курса коэффициент эксцесса 0.5947314321643558\n",
      "Стоимость курса критерий Шапиро-Уилка ShapiroResult(statistic=0.9206817746162415, pvalue=9.80978102568808e-13)\n",
      "Стоимость курса коэффициент асимметрии 0.8007626941728087\n",
      "Стоимость курса коэффициент эксцесса -0.07198682495245112\n"
     ]
    }
   ],
   "source": [
    "#dfzero['duration'].hist(bins=25)\n",
    "print('Продолжительность курса критерий Шапиро-Уилка', stats.shapiro(dfzero['duration']))\n",
    "print('Продолжительность курса коэффициент асимметрии', dfzero['duration'].skew())  \n",
    "print('Продолжительность курса коэффициент эксцесса', dfzero['duration'].kurtosis()) \n",
    "\n",
    "\n",
    "#dfzero['price_total'].hist(bins=25)\n",
    "print('Стоимость курса критерий Шапиро-Уилка', stats.shapiro(dfzero['price_total']))\n",
    "print('Стоимость курса коэффициент асимметрии', dfzero['price_total'].skew())  \n",
    "print('Стоимость курса коэффициент эксцесса', dfzero['price_total'].kurtosis()) \n"
   ]
  },
  {
   "cell_type": "markdown",
   "metadata": {
    "id": "QpVCRALHaNA4"
   },
   "source": [
    "### Проверка гипотезы Критерий Краскала-Уолиса\n",
    "Также мы можем сделать больше категорий. Топ-7 компаний GeekBrains, SKillbox, SkillFactory, Нетология, Яндекс Практикум, Loft School, Otus.  Видим, что Критерий Краскала-Уолиса pvalue < 5%, что означает, что мы принимаем не можем принять Н0, нулевая гипотеза о том, что наши средние показатели равны, те есть статистически значимые отличия. те между провайдерами GeekBrains, SKillbox, SkillFactory, Нетология, Яндекс Практикум, Loft School, Otus отличия в ценовом разбросе существенные. что мы и видим по средним значениям полной стоимости обучения - колеблется от 68  тр до 158 тр, больше чем в 2 раза.     \n"
   ]
  },
  {
   "cell_type": "code",
   "execution_count": null,
   "metadata": {
    "colab": {
     "base_uri": "https://localhost:8080/"
    },
    "id": "GljlmUAeanuw",
    "outputId": "a32cac81-18d6-4a80-9113-c286ec0a4ae8"
   },
   "outputs": [
    {
     "name": "stdout",
     "output_type": "stream",
     "text": [
      "Средние значения title_provider\n",
      "GeekBrains         158566.834783\n",
      "LoftSchool          68258.000000\n",
      "OTUS                62038.461538\n",
      "SkillFactory       169680.027027\n",
      "Skillbox           150732.357143\n",
      "Нетология          138602.285714\n",
      "ЯндексПрактикум    115210.526316\n",
      "Name: price_total, dtype: float64\n"
     ]
    },
    {
     "data": {
      "text/plain": [
       "(array([0, 1, 2, 3, 4, 5, 6]), <a list of 7 Text major ticklabel objects>)"
      ]
     },
     "execution_count": 93,
     "metadata": {},
     "output_type": "execute_result"
    },
    {
     "data": {
      "image/png": "[encoded data removed]",
      "text/plain": [
       "<Figure size 432x432 with 1 Axes>"
      ]
     },
     "metadata": {},
     "output_type": "display_data"
    }
   ],
   "source": [
    "# b) создадим dataset с топ-7 компаний, выведем по нему среднее, построим box-plot\n",
    "provaiders = ['Skillbox', 'GeekBrains', 'SkillFactory', 'Нетология', 'ЯндексПрактикум', 'LoftSchool', 'OTUS']\n",
    "filter = dfzero['title_provider'].isin(provaiders)\n",
    "dftop7 = dfzero[filter]\n",
    "dftop7.shape\n",
    "\n",
    "print('Средние значения', dftop7.groupby('title_provider')['price_total'].mean())\n",
    "f, ax = plt.subplots(figsize=(6, 6))\n",
    "fig = sns.boxplot(x='title_provider', y='price_total', data=dftop7)\n",
    "plt.xticks(rotation=65, ha = 'right')"
   ]
  },
  {
   "cell_type": "code",
   "execution_count": null,
   "metadata": {
    "colab": {
     "base_uri": "https://localhost:8080/"
    },
    "id": "NZp5y5SpbAxP",
    "outputId": "81d12828-2793-42a4-ccad-3fe092e6ebd8"
   },
   "outputs": [
    {
     "data": {
      "text/plain": [
       "KruskalResult(statistic=41.746260141967724, pvalue=2.0635427011897972e-07)"
      ]
     },
     "execution_count": 94,
     "metadata": {},
     "output_type": "execute_result"
    }
   ],
   "source": [
    "# b) Статистические критерии для выборки на 7 групп, топ-7 компаний. Критерий Краскала-Уолиса\n",
    "dfSkillbox = np.array(dfzero[dfzero['title_provider']=='Skillbox']['price_total'])\n",
    "dfGeekBrains = np.array(dfzero[dfzero['title_provider']=='GeekBrains']['price_total'])\n",
    "dfSkillFactory = np.array(dfzero[dfzero['title_provider']=='SkillFactory']['price_total']) \n",
    "dfНетология = np.array(dfzero[dfzero['title_provider']=='Нетология']['price_total'])   \n",
    "dfЯндексПрактикум = np.array(dfzero[dfzero['title_provider']=='ЯндексПрактикум']['price_total']) \n",
    "dfLoftSchool = np.array(dfzero[dfzero['title_provider']=='LoftSchool']['price_total'])      \n",
    "dfOTUS = np.array(dfzero[dfzero['title_provider']=='OTUS']['price_total'])   \n",
    "stats.mstats.kruskalwallis(dfSkillbox, dfGeekBrains, dfSkillFactory, dfНетология, dfЯндексПрактикум, dfLoftSchool, dfOTUS)"
   ]
  },
  {
   "cell_type": "code",
   "execution_count": null,
   "metadata": {
    "colab": {
     "base_uri": "https://localhost:8080/"
    },
    "id": "dWLFq7lMV4uL",
    "outputId": "910bc939-45eb-4d4e-9351-698d346339d7"
   },
   "outputs": [
    {
     "data": {
      "text/plain": [
       "KruskalResult(statistic=1.1718821384172833, pvalue=0.7597557309351672)"
      ]
     },
     "execution_count": 95,
     "metadata": {},
     "output_type": "execute_result"
    }
   ],
   "source": [
    "# b) Статистические критерии для выборки на 3 групп, топ-7 компаний. Критерий Краскала-Уолиса\n",
    "dfSkillbox = np.array(dfzero[dfzero['title_provider']=='Skillbox']['price_total'])\n",
    "dfGeekBrains = np.array(dfzero[dfzero['title_provider']=='GeekBrains']['price_total'])\n",
    "dfSkillFactory = np.array(dfzero[dfzero['title_provider']=='SkillFactory']['price_total']) \n",
    "dfНетология = np.array(dfzero[dfzero['title_provider']=='Нетология']['price_total'])   \n",
    " \n",
    "stats.mstats.kruskalwallis(dfSkillbox, dfGeekBrains, dfSkillFactory, dfНетология)"
   ]
  },
  {
   "cell_type": "markdown",
   "metadata": {
    "id": "d699xRYObNpZ"
   },
   "source": [
    "### Парная регрессия OLS\n"
   ]
  },
  {
   "cell_type": "code",
   "execution_count": null,
   "metadata": {
    "colab": {
     "base_uri": "https://localhost:8080/"
    },
    "id": "L_uL_kfCbBV0",
    "outputId": "e0fd1113-9428-4b90-ffca-5f4fc574746b"
   },
   "outputs": [
    {
     "name": "stderr",
     "output_type": "stream",
     "text": [
      "/usr/local/lib/python3.7/dist-packages/seaborn/_decorators.py:43: FutureWarning: Pass the following variables as keyword args: x, y. From version 0.12, the only valid positional argument will be `data`, and passing other arguments without an explicit keyword will result in an error or misinterpretation.\n",
      "  FutureWarning\n"
     ]
    },
    {
     "data": {
      "text/html": [
       "<table class=\"simpletable\">\n",
       "<caption>OLS Regression Results</caption>\n",
       "<tr>\n",
       "  <th>Dep. Variable:</th>       <td>price_total</td>   <th>  R-squared:         </th> <td>   0.709</td>\n",
       "</tr>\n",
       "<tr>\n",
       "  <th>Model:</th>                   <td>OLS</td>       <th>  Adj. R-squared:    </th> <td>   0.708</td>\n",
       "</tr>\n",
       "<tr>\n",
       "  <th>Method:</th>             <td>Least Squares</td>  <th>  F-statistic:       </th> <td>   857.5</td>\n",
       "</tr>\n",
       "<tr>\n",
       "  <th>Date:</th>             <td>Fri, 05 Aug 2022</td> <th>  Prob (F-statistic):</th> <td>2.25e-96</td>\n",
       "</tr>\n",
       "<tr>\n",
       "  <th>Time:</th>                 <td>07:25:48</td>     <th>  Log-Likelihood:    </th> <td> -4374.8</td>\n",
       "</tr>\n",
       "<tr>\n",
       "  <th>No. Observations:</th>      <td>   354</td>      <th>  AIC:               </th> <td>   8754.</td>\n",
       "</tr>\n",
       "<tr>\n",
       "  <th>Df Residuals:</th>          <td>   352</td>      <th>  BIC:               </th> <td>   8761.</td>\n",
       "</tr>\n",
       "<tr>\n",
       "  <th>Df Model:</th>              <td>     1</td>      <th>                     </th>     <td> </td>   \n",
       "</tr>\n",
       "<tr>\n",
       "  <th>Covariance Type:</th>      <td>nonrobust</td>    <th>                     </th>     <td> </td>   \n",
       "</tr>\n",
       "</table>\n",
       "<table class=\"simpletable\">\n",
       "<tr>\n",
       "      <td></td>         <th>coef</th>     <th>std err</th>      <th>t</th>      <th>P>|t|</th>  <th>[0.025</th>    <th>0.975]</th>  \n",
       "</tr>\n",
       "<tr>\n",
       "  <th>Intercept</th> <td> 2.063e+04</td> <td> 4962.990</td> <td>    4.156</td> <td> 0.000</td> <td> 1.09e+04</td> <td> 3.04e+04</td>\n",
       "</tr>\n",
       "<tr>\n",
       "  <th>duration</th>  <td> 1.251e+04</td> <td>  427.338</td> <td>   29.284</td> <td> 0.000</td> <td> 1.17e+04</td> <td> 1.34e+04</td>\n",
       "</tr>\n",
       "</table>\n",
       "<table class=\"simpletable\">\n",
       "<tr>\n",
       "  <th>Omnibus:</th>       <td>32.767</td> <th>  Durbin-Watson:     </th> <td>   1.743</td>\n",
       "</tr>\n",
       "<tr>\n",
       "  <th>Prob(Omnibus):</th> <td> 0.000</td> <th>  Jarque-Bera (JB):  </th> <td> 112.702</td>\n",
       "</tr>\n",
       "<tr>\n",
       "  <th>Skew:</th>          <td> 0.310</td> <th>  Prob(JB):          </th> <td>3.37e-25</td>\n",
       "</tr>\n",
       "<tr>\n",
       "  <th>Kurtosis:</th>      <td> 5.694</td> <th>  Cond. No.          </th> <td>    19.3</td>\n",
       "</tr>\n",
       "</table><br/><br/>Warnings:<br/>[1] Standard Errors assume that the covariance matrix of the errors is correctly specified."
      ],
      "text/plain": [
       "<class 'statsmodels.iolib.summary.Summary'>\n",
       "\"\"\"\n",
       "                            OLS Regression Results                            \n",
       "==============================================================================\n",
       "Dep. Variable:            price_total   R-squared:                       0.709\n",
       "Model:                            OLS   Adj. R-squared:                  0.708\n",
       "Method:                 Least Squares   F-statistic:                     857.5\n",
       "Date:                Fri, 05 Aug 2022   Prob (F-statistic):           2.25e-96\n",
       "Time:                        07:25:48   Log-Likelihood:                -4374.8\n",
       "No. Observations:                 354   AIC:                             8754.\n",
       "Df Residuals:                     352   BIC:                             8761.\n",
       "Df Model:                           1                                         \n",
       "Covariance Type:            nonrobust                                         \n",
       "==============================================================================\n",
       "                 coef    std err          t      P>|t|      [0.025      0.975]\n",
       "------------------------------------------------------------------------------\n",
       "Intercept   2.063e+04   4962.990      4.156      0.000    1.09e+04    3.04e+04\n",
       "duration    1.251e+04    427.338     29.284      0.000    1.17e+04    1.34e+04\n",
       "==============================================================================\n",
       "Omnibus:                       32.767   Durbin-Watson:                   1.743\n",
       "Prob(Omnibus):                  0.000   Jarque-Bera (JB):              112.702\n",
       "Skew:                           0.310   Prob(JB):                     3.37e-25\n",
       "Kurtosis:                       5.694   Cond. No.                         19.3\n",
       "==============================================================================\n",
       "\n",
       "Warnings:\n",
       "[1] Standard Errors assume that the covariance matrix of the errors is correctly specified.\n",
       "\"\"\""
      ]
     },
     "execution_count": 96,
     "metadata": {},
     "output_type": "execute_result"
    },
    {
     "data": {
      "image/png": "[encoded data removed]",
      "text/plain": [
       "<Figure size 432x432 with 3 Axes>"
      ]
     },
     "metadata": {},
     "output_type": "display_data"
    }
   ],
   "source": [
    "sns.set(style=\"darkgrid\")\n",
    "sns.jointplot('price_total', 'duration', data=dftop4, kind=\"reg\")\n",
    "import statsmodels.api as sm\n",
    "import statsmodels.formula.api as smf\n",
    "results1 = smf.ols('price_total ~ duration', data=dfzero).fit()\n",
    "results1.summary()"
   ]
  },
  {
   "cell_type": "markdown",
   "metadata": {
    "id": "h3mWKsFkg3uK"
   },
   "source": [
    "### Множественная регрессия OLS\n",
    "смотрим в первую очередь на pvalue факторов, какие значимые, какие нет в модели \n",
    "в нашем случае все параметры значимы. но мы не добавили категориальные факторы, возможно в будущем картина измениться"
   ]
  },
  {
   "cell_type": "code",
   "execution_count": null,
   "metadata": {
    "colab": {
     "base_uri": "https://localhost:8080/"
    },
    "id": "Xqe2Wl1vg3uL",
    "outputId": "406e8b97-59cc-44b7-b77d-4372a34c883b"
   },
   "outputs": [
    {
     "data": {
      "text/html": [
       "<table class=\"simpletable\">\n",
       "<caption>OLS Regression Results</caption>\n",
       "<tr>\n",
       "  <th>Dep. Variable:</th>       <td>price_total</td>   <th>  R-squared:         </th> <td>   0.744</td> \n",
       "</tr>\n",
       "<tr>\n",
       "  <th>Model:</th>                   <td>OLS</td>       <th>  Adj. R-squared:    </th> <td>   0.743</td> \n",
       "</tr>\n",
       "<tr>\n",
       "  <th>Method:</th>             <td>Least Squares</td>  <th>  F-statistic:       </th> <td>   510.4</td> \n",
       "</tr>\n",
       "<tr>\n",
       "  <th>Date:</th>             <td>Fri, 05 Aug 2022</td> <th>  Prob (F-statistic):</th> <td>1.27e-104</td>\n",
       "</tr>\n",
       "<tr>\n",
       "  <th>Time:</th>                 <td>07:25:49</td>     <th>  Log-Likelihood:    </th> <td> -4352.0</td> \n",
       "</tr>\n",
       "<tr>\n",
       "  <th>No. Observations:</th>      <td>   354</td>      <th>  AIC:               </th> <td>   8710.</td> \n",
       "</tr>\n",
       "<tr>\n",
       "  <th>Df Residuals:</th>          <td>   351</td>      <th>  BIC:               </th> <td>   8722.</td> \n",
       "</tr>\n",
       "<tr>\n",
       "  <th>Df Model:</th>              <td>     2</td>      <th>                     </th>     <td> </td>    \n",
       "</tr>\n",
       "<tr>\n",
       "  <th>Covariance Type:</th>      <td>nonrobust</td>    <th>                     </th>     <td> </td>    \n",
       "</tr>\n",
       "</table>\n",
       "<table class=\"simpletable\">\n",
       "<tr>\n",
       "      <td></td>         <th>coef</th>     <th>std err</th>      <th>t</th>      <th>P>|t|</th>  <th>[0.025</th>    <th>0.975]</th>  \n",
       "</tr>\n",
       "<tr>\n",
       "  <th>Intercept</th> <td> -1.52e+05</td> <td> 2.53e+04</td> <td>   -6.011</td> <td> 0.000</td> <td>-2.02e+05</td> <td>-1.02e+05</td>\n",
       "</tr>\n",
       "<tr>\n",
       "  <th>duration</th>  <td> 1.005e+04</td> <td>  535.690</td> <td>   18.759</td> <td> 0.000</td> <td> 8995.349</td> <td> 1.11e+04</td>\n",
       "</tr>\n",
       "<tr>\n",
       "  <th>rating</th>    <td> 2.266e+04</td> <td> 3261.856</td> <td>    6.946</td> <td> 0.000</td> <td> 1.62e+04</td> <td> 2.91e+04</td>\n",
       "</tr>\n",
       "</table>\n",
       "<table class=\"simpletable\">\n",
       "<tr>\n",
       "  <th>Omnibus:</th>       <td>33.738</td> <th>  Durbin-Watson:     </th> <td>   1.779</td>\n",
       "</tr>\n",
       "<tr>\n",
       "  <th>Prob(Omnibus):</th> <td> 0.000</td> <th>  Jarque-Bera (JB):  </th> <td>  93.194</td>\n",
       "</tr>\n",
       "<tr>\n",
       "  <th>Skew:</th>          <td> 0.417</td> <th>  Prob(JB):          </th> <td>5.80e-21</td>\n",
       "</tr>\n",
       "<tr>\n",
       "  <th>Kurtosis:</th>      <td> 5.371</td> <th>  Cond. No.          </th> <td>    127.</td>\n",
       "</tr>\n",
       "</table><br/><br/>Warnings:<br/>[1] Standard Errors assume that the covariance matrix of the errors is correctly specified."
      ],
      "text/plain": [
       "<class 'statsmodels.iolib.summary.Summary'>\n",
       "\"\"\"\n",
       "                            OLS Regression Results                            \n",
       "==============================================================================\n",
       "Dep. Variable:            price_total   R-squared:                       0.744\n",
       "Model:                            OLS   Adj. R-squared:                  0.743\n",
       "Method:                 Least Squares   F-statistic:                     510.4\n",
       "Date:                Fri, 05 Aug 2022   Prob (F-statistic):          1.27e-104\n",
       "Time:                        07:25:49   Log-Likelihood:                -4352.0\n",
       "No. Observations:                 354   AIC:                             8710.\n",
       "Df Residuals:                     351   BIC:                             8722.\n",
       "Df Model:                           2                                         \n",
       "Covariance Type:            nonrobust                                         \n",
       "==============================================================================\n",
       "                 coef    std err          t      P>|t|      [0.025      0.975]\n",
       "------------------------------------------------------------------------------\n",
       "Intercept   -1.52e+05   2.53e+04     -6.011      0.000   -2.02e+05   -1.02e+05\n",
       "duration    1.005e+04    535.690     18.759      0.000    8995.349    1.11e+04\n",
       "rating      2.266e+04   3261.856      6.946      0.000    1.62e+04    2.91e+04\n",
       "==============================================================================\n",
       "Omnibus:                       33.738   Durbin-Watson:                   1.779\n",
       "Prob(Omnibus):                  0.000   Jarque-Bera (JB):               93.194\n",
       "Skew:                           0.417   Prob(JB):                     5.80e-21\n",
       "Kurtosis:                       5.371   Cond. No.                         127.\n",
       "==============================================================================\n",
       "\n",
       "Warnings:\n",
       "[1] Standard Errors assume that the covariance matrix of the errors is correctly specified.\n",
       "\"\"\""
      ]
     },
     "execution_count": 97,
     "metadata": {},
     "output_type": "execute_result"
    }
   ],
   "source": [
    "\n",
    "resultsm = smf.ols('price_total ~ duration + rating', data=dfzero).fit()\n",
    "resultsm.summary()"
   ]
  },
  {
   "cell_type": "markdown",
   "metadata": {
    "id": "eIUjwmF8b5Na"
   },
   "source": [
    "### ВЫВОДЫ\n",
    "Длительность обучения связана со стоимостью у выбранных провайдеров GeekBrains, SKillbox, SkillFactory, Нетология, Яндекс Практикум, Loft School, Otus\n",
    "Можно предположить, что более длительные курсы будут стоить дороже, что логично"
   ]
  },
  {
   "cell_type": "markdown",
   "metadata": {
    "id": "NE4eFNP-IpHq"
   },
   "source": [
    "### Линейная регрессия модель"
   ]
  },
  {
   "cell_type": "code",
   "execution_count": null,
   "metadata": {
    "id": "Od1N6hY1InJR"
   },
   "outputs": [],
   "source": [
    "import matplotlib.pyplot as plt\n",
    "import pandas as pd\n",
    "\n",
    "from sklearn.model_selection import train_test_split\n",
    "train, test = train_test_split(dfzero, test_size=0.2, random_state=42)"
   ]
  },
  {
   "cell_type": "code",
   "execution_count": null,
   "metadata": {
    "colab": {
     "base_uri": "https://localhost:8080/"
    },
    "id": "SIbxawGoI2BU",
    "outputId": "f027edc6-4c00-4949-9aff-cca292fa778c"
   },
   "outputs": [
    {
     "data": {
      "text/plain": [
       "LinearRegression()"
      ]
     },
     "execution_count": 99,
     "metadata": {},
     "output_type": "execute_result"
    }
   ],
   "source": [
    "from sklearn.linear_model import LinearRegression\n",
    "\n",
    "lr = LinearRegression()\n",
    "lr.fit(train[['duration']], train.price_total)"
   ]
  },
  {
   "cell_type": "code",
   "execution_count": null,
   "metadata": {
    "colab": {
     "base_uri": "https://localhost:8080/"
    },
    "id": "wuGQ0OW4JFTE",
    "outputId": "f9e0ec1d-3720-4477-bb56-a78f307443db"
   },
   "outputs": [
    {
     "data": {
      "text/plain": [
       "36759.1600572705"
      ]
     },
     "execution_count": 100,
     "metadata": {},
     "output_type": "execute_result"
    }
   ],
   "source": [
    "from sklearn.metrics import mean_absolute_error\n",
    "pred = lr.predict(test[['duration']])\n",
    "mean_absolute_error(test.price_total, pred)\n",
    "\n",
    "#predict на тестовых данных и измерение модели ошибка 2.5 мес ошибка"
   ]
  },
  {
   "cell_type": "code",
   "execution_count": null,
   "metadata": {
    "colab": {
     "base_uri": "https://localhost:8080/"
    },
    "id": "QwiTNzx2KhMJ",
    "outputId": "94f146cd-7e06-4abf-c847-5fbf89c69a21"
   },
   "outputs": [
    {
     "data": {
      "text/plain": [
       "0      166750.0\n",
       "1      193833.0\n",
       "2      224500.0\n",
       "3      324000.0\n",
       "4      130000.0\n",
       "         ...   \n",
       "415      8000.0\n",
       "416     15000.0\n",
       "417       790.0\n",
       "418       500.0\n",
       "419      3000.0\n",
       "Name: price_total, Length: 354, dtype: float64"
      ]
     },
     "execution_count": 101,
     "metadata": {},
     "output_type": "execute_result"
    }
   ],
   "source": [
    "dfzero['price_total']"
   ]
  },
  {
   "cell_type": "markdown",
   "metadata": {
    "id": "hSk7exU5Xtnn"
   },
   "source": [
    "## **ГИПОТЕЗА №2: Рейтинг зависит от продолжительности курса** \n",
    "\n",
    "---\n",
    "\n",
    "\n",
    "price_total vs rating"
   ]
  },
  {
   "cell_type": "markdown",
   "metadata": {
    "id": "B3erY97ucvDC"
   },
   "source": [
    "### Структурированные данные для проверки гипотезы 2, Тип данных - количественный"
   ]
  },
  {
   "cell_type": "code",
   "execution_count": null,
   "metadata": {
    "colab": {
     "base_uri": "https://localhost:8080/"
    },
    "id": "QWk5vIKUcvDD",
    "outputId": "8aa5902f-6da6-4046-ac76-d4db42d7aa2d"
   },
   "outputs": [
    {
     "name": "stdout",
     "output_type": "stream",
     "text": [
      "<class 'pandas.core.frame.DataFrame'>\n",
      "Int64Index: 354 entries, 0 to 419\n",
      "Data columns (total 33 columns):\n",
      " #   Column                 Non-Null Count  Dtype  \n",
      "---  ------                 --------------  -----  \n",
      " 0   duration               354 non-null    int64  \n",
      " 1   rating                 354 non-null    float64\n",
      " 2   title_course           354 non-null    object \n",
      " 3   title_provider         354 non-null    object \n",
      " 4   price_total            354 non-null    float64\n",
      " 5   price_discount         354 non-null    float64\n",
      " 6   x0_CodeStar            354 non-null    float64\n",
      " 7   x0_Cпециалист.ру       354 non-null    float64\n",
      " 8   x0_FructCode           354 non-null    float64\n",
      " 9   x0_GeekBrains          354 non-null    float64\n",
      " 10  x0_HEDU                354 non-null    float64\n",
      " 11  x0_Hedu                354 non-null    float64\n",
      " 12  x0_LoftSchool          354 non-null    float64\n",
      " 13  x0_MDA                 354 non-null    float64\n",
      " 14  x0_NordicIT            354 non-null    float64\n",
      " 15  x0_OTUS                354 non-null    float64\n",
      " 16  x0_ProductStar         354 non-null    float64\n",
      " 17  x0_SFEducation         354 non-null    float64\n",
      " 18  x0_SkillFactory        354 non-null    float64\n",
      " 19  x0_Skillbox            354 non-null    float64\n",
      " 20  x0_Skypro              354 non-null    float64\n",
      " 21  x0_Skysmart            354 non-null    float64\n",
      " 22  x0_Udemy               354 non-null    float64\n",
      " 23  x0_XYZSchool           354 non-null    float64\n",
      " 24  x0_robot_dreams        354 non-null    float64\n",
      " 25  x0_АкадемииЛАНИТ       354 non-null    float64\n",
      " 26  x0_Бруноям             354 non-null    float64\n",
      " 27  x0_Делосистемы         354 non-null    float64\n",
      " 28  x0_МихаилаРусакова     354 non-null    float64\n",
      " 29  x0_Нетология           354 non-null    float64\n",
      " 30  x0_Слёрм               354 non-null    float64\n",
      " 31  x0_ЯндексПрактикум     354 non-null    float64\n",
      " 32  title_provider_counts  354 non-null    int64  \n",
      "dtypes: float64(29), int64(2), object(2)\n",
      "memory usage: 102.1+ KB\n"
     ]
    }
   ],
   "source": [
    "dfzero.info()"
   ]
  },
  {
   "cell_type": "code",
   "execution_count": null,
   "metadata": {
    "colab": {
     "base_uri": "https://localhost:8080/"
    },
    "id": "VCryPhnwcvDE",
    "outputId": "514eb340-0c69-4fe6-a79d-149849e6f46a"
   },
   "outputs": [
    {
     "data": {
      "image/png": "[encoded data removed]",
      "text/plain": [
       "<Figure size 1296x648 with 1 Axes>"
      ]
     },
     "metadata": {},
     "output_type": "display_data"
    }
   ],
   "source": [
    "#Визуализация\n",
    "import seaborn as sns\n",
    "sns.boxplot(x='duration', y=\"rating\", data=dfzero)\n",
    "plt.xticks(rotation=65, ha = 'right')\n",
    "\n",
    "sns.set(rc={'figure.figsize':(18,14)})\n",
    "plt.title('Зависимость рейтинга курса от его стоимости')\n",
    "plt.xlabel('Продолжительность обучения в мес', fontsize=16)\n",
    "plt.ylabel('Рейтинг', fontsize=16)\n",
    "plt.show()"
   ]
  },
  {
   "cell_type": "markdown",
   "metadata": {
    "id": "gMz0lLi_cvDE"
   },
   "source": [
    "### Проверка нормальности по критерию Шапиро-Уилка\n",
    "\n",
    "По обоим параметрам (рейтинг курса, стоимость курса) значения pvalue меньше 5%, что значит мы не можем принять нулевую гипотезу Но и данные не распределены нормально, принимает альтернативную гипотезу Н1\n",
    "\n",
    "Далее нужно понять сколь групп и зависисы ли выборки, чтобы определить какой метод расчета использовать\n",
    "\n",
    "Нужно сделать анализ влияния категориальных признаков. Критерии сравнения групп"
   ]
  },
  {
   "cell_type": "code",
   "execution_count": null,
   "metadata": {
    "colab": {
     "base_uri": "https://localhost:8080/"
    },
    "id": "S13LhqCscvDE",
    "outputId": "6c462e95-84b3-4e0b-cb87-61856b0d864c"
   },
   "outputs": [
    {
     "name": "stdout",
     "output_type": "stream",
     "text": [
      "Стоимость курса критерий Шапиро-Уилка ShapiroResult(statistic=0.9206817746162415, pvalue=9.80978102568808e-13)\n",
      "Стоимость курса коэффициент асимметрии 0.8007626941728087\n",
      "Стоимость курса коэффициент эксцесса -0.07198682495245112\n",
      "Продолжительность курса критерий Шапиро-Уилка ShapiroResult(statistic=0.9177727103233337, pvalue=5.303982079929437e-13)\n",
      "Продолжительность курса коэффициент асимметрии -0.8525175601921139\n",
      "Продолжительность курса коэффициент эксцесса 0.8254433453635084\n"
     ]
    }
   ],
   "source": [
    "#dfzero['price_total'].hist(bins=25)\n",
    "print('Стоимость курса критерий Шапиро-Уилка', stats.shapiro(dfzero['price_total']))\n",
    "print('Стоимость курса коэффициент асимметрии', dfzero['price_total'].skew())  \n",
    "print('Стоимость курса коэффициент эксцесса', dfzero['price_total'].kurtosis()) \n",
    "\n",
    "#dfzero['rating'].hist(bins=25)\n",
    "print('Продолжительность курса критерий Шапиро-Уилка', stats.shapiro(dfzero['rating']))\n",
    "print('Продолжительность курса коэффициент асимметрии', dfzero['rating'].skew())  \n",
    "print('Продолжительность курса коэффициент эксцесса', dfzero['rating'].kurtosis()) "
   ]
  },
  {
   "cell_type": "markdown",
   "metadata": {
    "id": "Fuq5UAPHcvDF"
   },
   "source": [
    "### Проверка гипотезы Критерий Краскала-Уолиса\n",
    "Проверяем рейтинг в Топ-7 компаний GeekBrains, SKillbox, SkillFactory, Нетология, Яндекс Практикум, Loft School, Otus.  Видим, что Критерий Краскала-Уолиса pvalue < 5%, что означает, что мы принимаем не можем принять Н0, нулевая гипотеза о том, что наши средние показатели равны, те есть статистически значимые отличия. те между провайдерами GeekBrains, SKillbox, SkillFactory, Нетология, Яндекс Практикум, Loft School, Otus отличия в рейтинге существенные. колебание от 7 до 9.     \n"
   ]
  },
  {
   "cell_type": "code",
   "execution_count": null,
   "metadata": {
    "colab": {
     "base_uri": "https://localhost:8080/"
    },
    "id": "zbxLRNe3cvDG",
    "outputId": "57acae4c-c4a2-4cb0-e240-dbf04fe2d7c1"
   },
   "outputs": [
    {
     "name": "stdout",
     "output_type": "stream",
     "text": [
      "Средние значения title_provider\n",
      "GeekBrains         8.775652\n",
      "LoftSchool         8.375000\n",
      "OTUS               7.550000\n",
      "SkillFactory       9.056757\n",
      "Skillbox           8.891667\n",
      "Нетология          8.708571\n",
      "ЯндексПрактикум    8.621053\n",
      "Name: rating, dtype: float64\n"
     ]
    }
   ],
   "source": [
    "# b) создадим dataset с топ-7 компаний, выведем по нему среднее, построим box-plot\n",
    "provaiders = ['Skillbox', 'GeekBrains', 'SkillFactory', 'Нетология', 'ЯндексПрактикум', 'LoftSchool', 'OTUS']\n",
    "filter = dfzero['title_provider'].isin(provaiders)\n",
    "dftop7 = dfzero[filter]\n",
    "dftop7.shape\n",
    "\n",
    "print('Средние значения', dftop7.groupby('title_provider')['rating'].mean())\n"
   ]
  },
  {
   "cell_type": "code",
   "execution_count": null,
   "metadata": {
    "colab": {
     "base_uri": "https://localhost:8080/"
    },
    "id": "lmwwFmgS6O6C",
    "outputId": "393f3514-d2ec-4b65-cc16-a9eb27b83735"
   },
   "outputs": [
    {
     "name": "stdout",
     "output_type": "stream",
     "text": [
      "Средние значения title_provider\n",
      "GeekBrains         10.086957\n",
      "LoftSchool          3.250000\n",
      "OTUS                4.519231\n",
      "SkillFactory       11.810811\n",
      "Skillbox           10.761905\n",
      "Нетология           9.800000\n",
      "ЯндексПрактикум     8.157895\n",
      "Name: duration, dtype: float64\n"
     ]
    }
   ],
   "source": [
    "print('Средние значения', dftop7.groupby('title_provider')['duration'].mean())"
   ]
  },
  {
   "cell_type": "code",
   "execution_count": null,
   "metadata": {
    "colab": {
     "base_uri": "https://localhost:8080/"
    },
    "id": "g0kxZAy2cvDH",
    "outputId": "a1e81b69-7928-4420-885a-9b8c341f2aa8"
   },
   "outputs": [
    {
     "data": {
      "text/plain": [
       "KruskalResult(statistic=53.97483958156923, pvalue=7.463840048217499e-10)"
      ]
     },
     "execution_count": 60,
     "metadata": {},
     "output_type": "execute_result"
    }
   ],
   "source": [
    "# b) Статистические критерии для выборки на 7 групп, топ-7 компаний. Критерий Краскала-Уолиса\n",
    "dfSkillbox = np.array(dfzero[dfzero['title_provider']=='Skillbox']['rating'])\n",
    "dfGeekBrains = np.array(dfzero[dfzero['title_provider']=='GeekBrains']['rating'])\n",
    "dfSkillFactory = np.array(dfzero[dfzero['title_provider']=='SkillFactory']['rating']) \n",
    "dfНетология = np.array(dfzero[dfzero['title_provider']=='Нетология']['rating'])   \n",
    "dfЯндексПрактикум = np.array(dfzero[dfzero['title_provider']=='ЯндексПрактикум']['rating']) \n",
    "dfLoftSchool = np.array(dfzero[dfzero['title_provider']=='LoftSchool']['rating'])      \n",
    "dfOTUS = np.array(dfzero[dfzero['title_provider']=='OTUS']['rating'])   \n",
    "stats.mstats.kruskalwallis(dfSkillbox, dfGeekBrains, dfSkillFactory, dfНетология, dfЯндексПрактикум, dfLoftSchool, dfOTUS)"
   ]
  },
  {
   "cell_type": "code",
   "execution_count": null,
   "metadata": {
    "colab": {
     "base_uri": "https://localhost:8080/"
    },
    "id": "4DnD0zinDq3u",
    "outputId": "17b87173-93f3-44ef-9fe5-550f7f01b231"
   },
   "outputs": [
    {
     "data": {
      "text/plain": [
       "KruskalResult(statistic=1.1718821384172833, pvalue=0.7597557309351672)"
      ]
     },
     "execution_count": 61,
     "metadata": {},
     "output_type": "execute_result"
    }
   ],
   "source": [
    "# b) Статистические критерии для выборки на 3 групп, топ-7 компаний. Критерий Краскала-Уолиса\n",
    "dfSkillbox = np.array(dfzero[dfzero['title_provider']=='Skillbox']['price_total'])\n",
    "dfGeekBrains = np.array(dfzero[dfzero['title_provider']=='GeekBrains']['price_total'])\n",
    "dfSkillFactory = np.array(dfzero[dfzero['title_provider']=='SkillFactory']['price_total']) \n",
    "dfНетология = np.array(dfzero[dfzero['title_provider']=='Нетология']['price_total'])\n",
    " \n",
    "stats.mstats.kruskalwallis(dfSkillbox, dfGeekBrains, dfSkillFactory, dfНетология)"
   ]
  },
  {
   "cell_type": "markdown",
   "metadata": {
    "id": "938iolX3cvDH"
   },
   "source": [
    "### Парная регрессия OLS\n"
   ]
  },
  {
   "cell_type": "code",
   "execution_count": null,
   "metadata": {
    "colab": {
     "base_uri": "https://localhost:8080/",
     "height": 912
    },
    "id": "pM-JmKrhcvDI",
    "outputId": "59f7c172-6774-4d36-e87e-07d5a1e7e222"
   },
   "outputs": [
    {
     "name": "stderr",
     "output_type": "stream",
     "text": [
      "/usr/local/lib/python3.7/dist-packages/seaborn/_decorators.py:43: FutureWarning: Pass the following variables as keyword args: x, y. From version 0.12, the only valid positional argument will be `data`, and passing other arguments without an explicit keyword will result in an error or misinterpretation.\n",
      "  FutureWarning\n"
     ]
    },
    {
     "data": {
      "text/html": [
       "<table class=\"simpletable\">\n",
       "<caption>OLS Regression Results</caption>\n",
       "<tr>\n",
       "  <th>Dep. Variable:</th>        <td>duration</td>     <th>  R-squared:         </th> <td>   0.439</td>\n",
       "</tr>\n",
       "<tr>\n",
       "  <th>Model:</th>                   <td>OLS</td>       <th>  Adj. R-squared:    </th> <td>   0.437</td>\n",
       "</tr>\n",
       "<tr>\n",
       "  <th>Method:</th>             <td>Least Squares</td>  <th>  F-statistic:       </th> <td>   275.4</td>\n",
       "</tr>\n",
       "<tr>\n",
       "  <th>Date:</th>             <td>Thu, 04 Aug 2022</td> <th>  Prob (F-statistic):</th> <td>4.29e-46</td>\n",
       "</tr>\n",
       "<tr>\n",
       "  <th>Time:</th>                 <td>19:08:51</td>     <th>  Log-Likelihood:    </th> <td> -1090.3</td>\n",
       "</tr>\n",
       "<tr>\n",
       "  <th>No. Observations:</th>      <td>   354</td>      <th>  AIC:               </th> <td>   2185.</td>\n",
       "</tr>\n",
       "<tr>\n",
       "  <th>Df Residuals:</th>          <td>   352</td>      <th>  BIC:               </th> <td>   2192.</td>\n",
       "</tr>\n",
       "<tr>\n",
       "  <th>Df Model:</th>              <td>     1</td>      <th>                     </th>     <td> </td>   \n",
       "</tr>\n",
       "<tr>\n",
       "  <th>Covariance Type:</th>      <td>nonrobust</td>    <th>                     </th>     <td> </td>   \n",
       "</tr>\n",
       "</table>\n",
       "<table class=\"simpletable\">\n",
       "<tr>\n",
       "      <td></td>         <th>coef</th>     <th>std err</th>      <th>t</th>      <th>P>|t|</th>  <th>[0.025</th>    <th>0.975]</th>  \n",
       "</tr>\n",
       "<tr>\n",
       "  <th>Intercept</th> <td>  -25.5445</td> <td>    2.115</td> <td>  -12.077</td> <td> 0.000</td> <td>  -29.704</td> <td>  -21.384</td>\n",
       "</tr>\n",
       "<tr>\n",
       "  <th>rating</th>    <td>    4.0341</td> <td>    0.243</td> <td>   16.594</td> <td> 0.000</td> <td>    3.556</td> <td>    4.512</td>\n",
       "</tr>\n",
       "</table>\n",
       "<table class=\"simpletable\">\n",
       "<tr>\n",
       "  <th>Omnibus:</th>       <td>70.678</td> <th>  Durbin-Watson:     </th> <td>   1.777</td>\n",
       "</tr>\n",
       "<tr>\n",
       "  <th>Prob(Omnibus):</th> <td> 0.000</td> <th>  Jarque-Bera (JB):  </th> <td> 113.654</td>\n",
       "</tr>\n",
       "<tr>\n",
       "  <th>Skew:</th>          <td> 1.192</td> <th>  Prob(JB):          </th> <td>2.09e-25</td>\n",
       "</tr>\n",
       "<tr>\n",
       "  <th>Kurtosis:</th>      <td> 4.421</td> <th>  Cond. No.          </th> <td>    66.4</td>\n",
       "</tr>\n",
       "</table><br/><br/>Warnings:<br/>[1] Standard Errors assume that the covariance matrix of the errors is correctly specified."
      ],
      "text/plain": [
       "<class 'statsmodels.iolib.summary.Summary'>\n",
       "\"\"\"\n",
       "                            OLS Regression Results                            \n",
       "==============================================================================\n",
       "Dep. Variable:               duration   R-squared:                       0.439\n",
       "Model:                            OLS   Adj. R-squared:                  0.437\n",
       "Method:                 Least Squares   F-statistic:                     275.4\n",
       "Date:                Thu, 04 Aug 2022   Prob (F-statistic):           4.29e-46\n",
       "Time:                        19:08:51   Log-Likelihood:                -1090.3\n",
       "No. Observations:                 354   AIC:                             2185.\n",
       "Df Residuals:                     352   BIC:                             2192.\n",
       "Df Model:                           1                                         \n",
       "Covariance Type:            nonrobust                                         \n",
       "==============================================================================\n",
       "                 coef    std err          t      P>|t|      [0.025      0.975]\n",
       "------------------------------------------------------------------------------\n",
       "Intercept    -25.5445      2.115    -12.077      0.000     -29.704     -21.384\n",
       "rating         4.0341      0.243     16.594      0.000       3.556       4.512\n",
       "==============================================================================\n",
       "Omnibus:                       70.678   Durbin-Watson:                   1.777\n",
       "Prob(Omnibus):                  0.000   Jarque-Bera (JB):              113.654\n",
       "Skew:                           1.192   Prob(JB):                     2.09e-25\n",
       "Kurtosis:                       4.421   Cond. No.                         66.4\n",
       "==============================================================================\n",
       "\n",
       "Warnings:\n",
       "[1] Standard Errors assume that the covariance matrix of the errors is correctly specified.\n",
       "\"\"\""
      ]
     },
     "execution_count": 207,
     "metadata": {},
     "output_type": "execute_result"
    },
    {
     "data": {
      "image/png": "[encoded data removed]",
      "text/plain": [
       "<Figure size 432x432 with 3 Axes>"
      ]
     },
     "metadata": {},
     "output_type": "display_data"
    }
   ],
   "source": [
    "sns.set(style=\"darkgrid\")\n",
    "sns.jointplot('duration', 'rating', data=dfzero, kind=\"reg\")\n",
    "import statsmodels.api as sm\n",
    "import statsmodels.formula.api as smf\n",
    "results1 = smf.ols('duration ~ rating', data=dfzero).fit()\n",
    "results1.summary()"
   ]
  },
  {
   "cell_type": "code",
   "execution_count": null,
   "metadata": {
    "id": "RT-vd5gfhJsk"
   },
   "outputs": [],
   "source": []
  },
  {
   "cell_type": "code",
   "execution_count": null,
   "metadata": {
    "colab": {
     "base_uri": "https://localhost:8080/"
    },
    "id": "RL8dPiZfhek3",
    "outputId": "6b53005c-9e40-47ff-cc89-e4323b0687cf"
   },
   "outputs": [
    {
     "name": "stdout",
     "output_type": "stream",
     "text": [
      "<class 'pandas.core.frame.DataFrame'>\n",
      "Int64Index: 354 entries, 0 to 419\n",
      "Data columns (total 7 columns):\n",
      " #   Column                 Non-Null Count  Dtype  \n",
      "---  ------                 --------------  -----  \n",
      " 0   duration               354 non-null    int64  \n",
      " 1   rating                 354 non-null    float64\n",
      " 2   title_course           354 non-null    object \n",
      " 3   title_provider         354 non-null    object \n",
      " 4   price_total            354 non-null    float64\n",
      " 5   price_discount         354 non-null    float64\n",
      " 6   title_provider_counts  354 non-null    int64  \n",
      "dtypes: float64(3), int64(2), object(2)\n",
      "memory usage: 30.2+ KB\n"
     ]
    }
   ],
   "source": [
    "dfzero.info()"
   ]
  },
  {
   "cell_type": "markdown",
   "metadata": {
    "id": "SBJibd3TOJ72"
   },
   "source": []
  },
  {
   "cell_type": "code",
   "execution_count": null,
   "metadata": {
    "id": "HAWM6LjAOKWm"
   },
   "outputs": [],
   "source": []
  },
  {
   "cell_type": "markdown",
   "metadata": {
    "id": "ectq0SU4LOCf"
   },
   "source": [
    "### Логистическая регрессия модель"
   ]
  },
  {
   "cell_type": "code",
   "execution_count": null,
   "metadata": {
    "id": "Om13D-0zLOXM"
   },
   "outputs": [],
   "source": [
    "import matplotlib.pyplot as plt\n",
    "import pandas as pd\n",
    "\n",
    "from sklearn.linear_model import LogisticRegression\n",
    "from sklearn.metrics import accuracy_score, confusion_matrix\n",
    "from sklearn.model_selection import train_test_split \n",
    "x = dftop4.drop(['duration'], axis=1)\n",
    "y = dftop4.duration"
   ]
  },
  {
   "cell_type": "code",
   "execution_count": null,
   "metadata": {
    "id": "F5uNo9GxLgvN"
   },
   "outputs": [],
   "source": [
    "train_x, test_x, train_y, test_y = train_test_split(x, y, test_size=0.3, random_state=42)"
   ]
  },
  {
   "cell_type": "code",
   "execution_count": null,
   "metadata": {
    "id": "k-Lo1B-PLjiO"
   },
   "outputs": [],
   "source": [
    "# импортировать из sklearn логистическую регрессию\n",
    "logreg = LogisticRegression()"
   ]
  },
  {
   "cell_type": "code",
   "execution_count": null,
   "metadata": {
    "colab": {
     "base_uri": "https://localhost:8080/"
    },
    "id": "czk9kQUJLlrm",
    "outputId": "7fcdae6f-f45e-4672-bc9e-973f0ca2d6ae"
   },
   "outputs": [
    {
     "name": "stderr",
     "output_type": "stream",
     "text": [
      "/usr/local/lib/python3.7/dist-packages/sklearn/linear_model/_logistic.py:818: ConvergenceWarning: lbfgs failed to converge (status=1):\n",
      "STOP: TOTAL NO. of ITERATIONS REACHED LIMIT.\n",
      "\n",
      "Increase the number of iterations (max_iter) or scale the data as shown in:\n",
      "    https://scikit-learn.org/stable/modules/preprocessing.html\n",
      "Please also refer to the documentation for alternative solver options:\n",
      "    https://scikit-learn.org/stable/modules/linear_model.html#logistic-regression\n",
      "  extra_warning_msg=_LOGISTIC_SOLVER_CONVERGENCE_MSG,\n"
     ]
    },
    {
     "data": {
      "text/plain": [
       "LogisticRegression()"
      ]
     },
     "execution_count": 107,
     "metadata": {},
     "output_type": "execute_result"
    }
   ],
   "source": [
    "# инициализация ее с дефолт параметрами\n",
    "# обучим модель логист регрессии на одной переменной - длительность\n",
    "train_cols = ['rating', 'price_total']\n",
    "logreg.fit(train_x[train_cols], train_y)"
   ]
  },
  {
   "cell_type": "code",
   "execution_count": null,
   "metadata": {
    "colab": {
     "base_uri": "https://localhost:8080/"
    },
    "id": "be7UjTA-MGuf",
    "outputId": "0734a403-fd5e-4b67-ec31-2910748d18db"
   },
   "outputs": [
    {
     "name": "stdout",
     "output_type": "stream",
     "text": [
      "0.524390243902439\n"
     ]
    },
    {
     "data": {
      "text/plain": [
       "0.5079365079365079"
      ]
     },
     "execution_count": 108,
     "metadata": {},
     "output_type": "execute_result"
    }
   ],
   "source": [
    "pred = logreg.predict(test_x[train_cols])\n",
    "print(accuracy_score(test_y, pred))\n",
    "#confusion_matrix(test_y, pred)\n",
    "logreg.score(train_x[train_cols], train_y)"
   ]
  },
  {
   "cell_type": "code",
   "execution_count": null,
   "metadata": {
    "colab": {
     "base_uri": "https://localhost:8080/"
    },
    "id": "YKzpqNJeNXt-",
    "outputId": "b3f09971-cc81-4e57-c273-84c42edb51f5"
   },
   "outputs": [
    {
     "name": "stderr",
     "output_type": "stream",
     "text": [
      "/usr/local/lib/python3.7/dist-packages/sklearn/linear_model/_logistic.py:1484: UserWarning: Setting penalty='none' will ignore the C and l1_ratio parameters\n",
      "  \"Setting penalty='none' will ignore the C and l1_ratio parameters\"\n",
      "/usr/local/lib/python3.7/dist-packages/sklearn/linear_model/_logistic.py:818: ConvergenceWarning: lbfgs failed to converge (status=1):\n",
      "STOP: TOTAL NO. of ITERATIONS REACHED LIMIT.\n",
      "\n",
      "Increase the number of iterations (max_iter) or scale the data as shown in:\n",
      "    https://scikit-learn.org/stable/modules/preprocessing.html\n",
      "Please also refer to the documentation for alternative solver options:\n",
      "    https://scikit-learn.org/stable/modules/linear_model.html#logistic-regression\n",
      "  extra_warning_msg=_LOGISTIC_SOLVER_CONVERGENCE_MSG,\n"
     ]
    },
    {
     "data": {
      "text/plain": [
       "LogisticRegression(C=0.5, penalty='none')"
      ]
     },
     "execution_count": 109,
     "metadata": {},
     "output_type": "execute_result"
    }
   ],
   "source": [
    "# в логистической регрессии чаще всего можно получить хорошие результаты, настрив\n",
    "# параметры регуляризации. она позволяет штрафовать модель за слишком высокие коэфициенты\n",
    "# это помогает сделать модель более общей и не затачивать модель под тренировочную выборку\n",
    "# за регуляризацию отвечает параметр penalty, он позволяет попробовать разные методы\n",
    "# и параметр С, который настраивает мощность регуляризации\n",
    "logreg_tuned = LogisticRegression(penalty='none', C=0.5)\n",
    "logreg_tuned.fit(train_x[train_cols], train_y)"
   ]
  },
  {
   "cell_type": "code",
   "execution_count": null,
   "metadata": {
    "colab": {
     "base_uri": "https://localhost:8080/"
    },
    "id": "tso_d_cvNbgq",
    "outputId": "5c153220-e1e1-4522-d10f-130d6d565ae1"
   },
   "outputs": [
    {
     "name": "stdout",
     "output_type": "stream",
     "text": [
      "0.524390243902439\n"
     ]
    },
    {
     "data": {
      "text/plain": [
       "0.5132275132275133"
      ]
     },
     "execution_count": 110,
     "metadata": {},
     "output_type": "execute_result"
    }
   ],
   "source": [
    "  pred = logreg_tuned.predict(test_x[train_cols])\n",
    "print(accuracy_score(test_y, pred))\n",
    "#confusion_matrix(test_y, pred)\n",
    "logreg_tuned.score(train_x[train_cols], train_y)"
   ]
  },
  {
   "cell_type": "markdown",
   "metadata": {
    "id": "HXQGuHrKcvDI"
   },
   "source": [
    "### ВЫВОДЫ\n",
    "Длительность обучения связана с рейтингом по выбранным провайдерам GeekBrains, SKillbox, SkillFactory, Нетология, Яндекс Практикум, Loft School, Otus\n",
    "Можно предположить, что более длительные курсы имеют более высокий рейтинг"
   ]
  },
  {
   "cell_type": "code",
   "execution_count": null,
   "metadata": {
    "colab": {
     "base_uri": "https://localhost:8080/",
     "height": 424
    },
    "id": "9OwwiFpL6IeN",
    "outputId": "63888b9a-2a81-4115-a7eb-204988d5b59c"
   },
   "outputs": [
    {
     "data": {
      "text/html": [
       "\n",
       "  <div id=\"df-b879ee0c-ac5a-4bbb-9fd5-f1c042145d40\">\n",
       "    <div class=\"colab-df-container\">\n",
       "      <div>\n",
       "<style scoped>\n",
       "    .dataframe tbody tr th:only-of-type {\n",
       "        vertical-align: middle;\n",
       "    }\n",
       "\n",
       "    .dataframe tbody tr th {\n",
       "        vertical-align: top;\n",
       "    }\n",
       "\n",
       "    .dataframe thead th {\n",
       "        text-align: right;\n",
       "    }\n",
       "</style>\n",
       "<table border=\"1\" class=\"dataframe\">\n",
       "  <thead>\n",
       "    <tr style=\"text-align: right;\">\n",
       "      <th></th>\n",
       "      <th>duration</th>\n",
       "      <th>rating</th>\n",
       "      <th>title_course</th>\n",
       "      <th>title_provider</th>\n",
       "      <th>price_total</th>\n",
       "      <th>price_discount</th>\n",
       "      <th>x0_GeekBrains</th>\n",
       "      <th>x0_SkillFactory</th>\n",
       "      <th>x0_Skillbox</th>\n",
       "      <th>x0_Нетология</th>\n",
       "    </tr>\n",
       "  </thead>\n",
       "  <tbody>\n",
       "    <tr>\n",
       "      <th>0</th>\n",
       "      <td>12</td>\n",
       "      <td>10.0</td>\n",
       "      <td>Профессия «С#-разработчик»</td>\n",
       "      <td>Skillbox</td>\n",
       "      <td>166750.0</td>\n",
       "      <td>125063.0</td>\n",
       "      <td>0.0</td>\n",
       "      <td>0.0</td>\n",
       "      <td>1.0</td>\n",
       "      <td>0.0</td>\n",
       "    </tr>\n",
       "    <tr>\n",
       "      <th>1</th>\n",
       "      <td>18</td>\n",
       "      <td>10.0</td>\n",
       "      <td>Профессия «Разработчик на C++ с нуля»</td>\n",
       "      <td>Skillbox</td>\n",
       "      <td>193833.0</td>\n",
       "      <td>125991.0</td>\n",
       "      <td>0.0</td>\n",
       "      <td>0.0</td>\n",
       "      <td>1.0</td>\n",
       "      <td>0.0</td>\n",
       "    </tr>\n",
       "    <tr>\n",
       "      <th>2</th>\n",
       "      <td>15</td>\n",
       "      <td>10.0</td>\n",
       "      <td>Факультет fullstack JavaScript</td>\n",
       "      <td>GeekBrains</td>\n",
       "      <td>224500.0</td>\n",
       "      <td>168750.0</td>\n",
       "      <td>1.0</td>\n",
       "      <td>0.0</td>\n",
       "      <td>0.0</td>\n",
       "      <td>0.0</td>\n",
       "    </tr>\n",
       "    <tr>\n",
       "      <th>3</th>\n",
       "      <td>24</td>\n",
       "      <td>10.0</td>\n",
       "      <td>Профессия «Data scientist»</td>\n",
       "      <td>SkillFactory</td>\n",
       "      <td>324000.0</td>\n",
       "      <td>178200.0</td>\n",
       "      <td>0.0</td>\n",
       "      <td>1.0</td>\n",
       "      <td>0.0</td>\n",
       "      <td>0.0</td>\n",
       "    </tr>\n",
       "    <tr>\n",
       "      <th>4</th>\n",
       "      <td>12</td>\n",
       "      <td>10.0</td>\n",
       "      <td>Профессия «Системный администратор»</td>\n",
       "      <td>Нетология</td>\n",
       "      <td>130000.0</td>\n",
       "      <td>78000.0</td>\n",
       "      <td>0.0</td>\n",
       "      <td>0.0</td>\n",
       "      <td>0.0</td>\n",
       "      <td>1.0</td>\n",
       "    </tr>\n",
       "    <tr>\n",
       "      <th>...</th>\n",
       "      <td>...</td>\n",
       "      <td>...</td>\n",
       "      <td>...</td>\n",
       "      <td>...</td>\n",
       "      <td>...</td>\n",
       "      <td>...</td>\n",
       "      <td>...</td>\n",
       "      <td>...</td>\n",
       "      <td>...</td>\n",
       "      <td>...</td>\n",
       "    </tr>\n",
       "    <tr>\n",
       "      <th>409</th>\n",
       "      <td>1</td>\n",
       "      <td>5.5</td>\n",
       "      <td>Курс «Философия искусственного интеллекта»</td>\n",
       "      <td>Skillbox</td>\n",
       "      <td>54395.0</td>\n",
       "      <td>40796.0</td>\n",
       "      <td>0.0</td>\n",
       "      <td>0.0</td>\n",
       "      <td>1.0</td>\n",
       "      <td>0.0</td>\n",
       "    </tr>\n",
       "    <tr>\n",
       "      <th>412</th>\n",
       "      <td>1</td>\n",
       "      <td>5.2</td>\n",
       "      <td>Курс «Веб-разработка на PHP»</td>\n",
       "      <td>GeekBrains</td>\n",
       "      <td>0.0</td>\n",
       "      <td>0.0</td>\n",
       "      <td>1.0</td>\n",
       "      <td>0.0</td>\n",
       "      <td>0.0</td>\n",
       "      <td>0.0</td>\n",
       "    </tr>\n",
       "    <tr>\n",
       "      <th>417</th>\n",
       "      <td>1</td>\n",
       "      <td>4.6</td>\n",
       "      <td>Курс «Основы кибербезопасности»</td>\n",
       "      <td>Нетология</td>\n",
       "      <td>790.0</td>\n",
       "      <td>790.0</td>\n",
       "      <td>0.0</td>\n",
       "      <td>0.0</td>\n",
       "      <td>0.0</td>\n",
       "      <td>1.0</td>\n",
       "    </tr>\n",
       "    <tr>\n",
       "      <th>418</th>\n",
       "      <td>1</td>\n",
       "      <td>4.3</td>\n",
       "      <td>Курс «Оптимизации запросов MySQL»</td>\n",
       "      <td>GeekBrains</td>\n",
       "      <td>500.0</td>\n",
       "      <td>500.0</td>\n",
       "      <td>1.0</td>\n",
       "      <td>0.0</td>\n",
       "      <td>0.0</td>\n",
       "      <td>0.0</td>\n",
       "    </tr>\n",
       "    <tr>\n",
       "      <th>421</th>\n",
       "      <td>1</td>\n",
       "      <td>4.0</td>\n",
       "      <td>Курс «Python для непрограммистов»</td>\n",
       "      <td>SkillFactory</td>\n",
       "      <td>0.0</td>\n",
       "      <td>0.0</td>\n",
       "      <td>0.0</td>\n",
       "      <td>1.0</td>\n",
       "      <td>0.0</td>\n",
       "      <td>0.0</td>\n",
       "    </tr>\n",
       "  </tbody>\n",
       "</table>\n",
       "<p>278 rows × 10 columns</p>\n",
       "</div>\n",
       "      <button class=\"colab-df-convert\" onclick=\"convertToInteractive('df-b879ee0c-ac5a-4bbb-9fd5-f1c042145d40')\"\n",
       "              title=\"Convert this dataframe to an interactive table.\"\n",
       "              style=\"display:none;\">\n",
       "        \n",
       "  <svg xmlns=\"http://www.w3.org/2000/svg\" height=\"24px\"viewBox=\"0 0 24 24\"\n",
       "       width=\"24px\">\n",
       "    <path d=\"M0 0h24v24H0V0z\" fill=\"none\"/>\n",
       "    <path d=\"M18.56 5.44l.94 2.06.94-2.06 2.06-.94-2.06-.94-.94-2.06-.94 2.06-2.06.94zm-11 1L8.5 8.5l.94-2.06 2.06-.94-2.06-.94L8.5 2.5l-.94 2.06-2.06.94zm10 10l.94 2.06.94-2.06 2.06-.94-2.06-.94-.94-2.06-.94 2.06-2.06.94z\"/><path d=\"M17.41 7.96l-1.37-1.37c-.4-.4-.92-.59-1.43-.59-.52 0-1.04.2-1.43.59L10.3 9.45l-7.72 7.72c-.78.78-.78 2.05 0 2.83L4 21.41c.39.39.9.59 1.41.59.51 0 1.02-.2 1.41-.59l7.78-7.78 2.81-2.81c.8-.78.8-2.07 0-2.86zM5.41 20L4 18.59l7.72-7.72 1.47 1.35L5.41 20z\"/>\n",
       "  </svg>\n",
       "      </button>\n",
       "      \n",
       "  <style>\n",
       "    .colab-df-container {\n",
       "      display:flex;\n",
       "      flex-wrap:wrap;\n",
       "      gap: 12px;\n",
       "    }\n",
       "\n",
       "    .colab-df-convert {\n",
       "      background-color: #E8F0FE;\n",
       "      border: none;\n",
       "      border-radius: 50%;\n",
       "      cursor: pointer;\n",
       "      display: none;\n",
       "      fill: #1967D2;\n",
       "      height: 32px;\n",
       "      padding: 0 0 0 0;\n",
       "      width: 32px;\n",
       "    }\n",
       "\n",
       "    .colab-df-convert:hover {\n",
       "      background-color: #E2EBFA;\n",
       "      box-shadow: 0px 1px 2px rgba(60, 64, 67, 0.3), 0px 1px 3px 1px rgba(60, 64, 67, 0.15);\n",
       "      fill: #174EA6;\n",
       "    }\n",
       "\n",
       "    [theme=dark] .colab-df-convert {\n",
       "      background-color: #3B4455;\n",
       "      fill: #D2E3FC;\n",
       "    }\n",
       "\n",
       "    [theme=dark] .colab-df-convert:hover {\n",
       "      background-color: #434B5C;\n",
       "      box-shadow: 0px 1px 3px 1px rgba(0, 0, 0, 0.15);\n",
       "      filter: drop-shadow(0px 1px 2px rgba(0, 0, 0, 0.3));\n",
       "      fill: #FFFFFF;\n",
       "    }\n",
       "  </style>\n",
       "\n",
       "      <script>\n",
       "        const buttonEl =\n",
       "          document.querySelector('#df-b879ee0c-ac5a-4bbb-9fd5-f1c042145d40 button.colab-df-convert');\n",
       "        buttonEl.style.display =\n",
       "          google.colab.kernel.accessAllowed ? 'block' : 'none';\n",
       "\n",
       "        async function convertToInteractive(key) {\n",
       "          const element = document.querySelector('#df-b879ee0c-ac5a-4bbb-9fd5-f1c042145d40');\n",
       "          const dataTable =\n",
       "            await google.colab.kernel.invokeFunction('convertToInteractive',\n",
       "                                                     [key], {});\n",
       "          if (!dataTable) return;\n",
       "\n",
       "          const docLinkHtml = 'Like what you see? Visit the ' +\n",
       "            '<a target=\"_blank\" href=https://colab.research.google.com/notebooks/data_table.ipynb>data table notebook</a>'\n",
       "            + ' to learn more about interactive tables.';\n",
       "          element.innerHTML = '';\n",
       "          dataTable['output_type'] = 'display_data';\n",
       "          await google.colab.output.renderOutput(dataTable, element);\n",
       "          const docLink = document.createElement('div');\n",
       "          docLink.innerHTML = docLinkHtml;\n",
       "          element.appendChild(docLink);\n",
       "        }\n",
       "      </script>\n",
       "    </div>\n",
       "  </div>\n",
       "  "
      ],
      "text/plain": [
       "     duration  rating                                title_course  \\\n",
       "0          12    10.0                  Профессия «С#-разработчик»   \n",
       "1          18    10.0       Профессия «Разработчик на C++ с нуля»   \n",
       "2          15    10.0              Факультет fullstack JavaScript   \n",
       "3          24    10.0                  Профессия «Data scientist»   \n",
       "4          12    10.0         Профессия «Системный администратор»   \n",
       "..        ...     ...                                         ...   \n",
       "409         1     5.5  Курс «Философия искусственного интеллекта»   \n",
       "412         1     5.2                Курс «Веб-разработка на PHP»   \n",
       "417         1     4.6             Курс «Основы кибербезопасности»   \n",
       "418         1     4.3           Курс «Оптимизации запросов MySQL»   \n",
       "421         1     4.0           Курс «Python для непрограммистов»   \n",
       "\n",
       "    title_provider  price_total  price_discount  x0_GeekBrains  \\\n",
       "0         Skillbox     166750.0        125063.0            0.0   \n",
       "1         Skillbox     193833.0        125991.0            0.0   \n",
       "2       GeekBrains     224500.0        168750.0            1.0   \n",
       "3     SkillFactory     324000.0        178200.0            0.0   \n",
       "4        Нетология     130000.0         78000.0            0.0   \n",
       "..             ...          ...             ...            ...   \n",
       "409       Skillbox      54395.0         40796.0            0.0   \n",
       "412     GeekBrains          0.0             0.0            1.0   \n",
       "417      Нетология        790.0           790.0            0.0   \n",
       "418     GeekBrains        500.0           500.0            1.0   \n",
       "421   SkillFactory          0.0             0.0            0.0   \n",
       "\n",
       "     x0_SkillFactory  x0_Skillbox  x0_Нетология  \n",
       "0                0.0          1.0           0.0  \n",
       "1                0.0          1.0           0.0  \n",
       "2                0.0          0.0           0.0  \n",
       "3                1.0          0.0           0.0  \n",
       "4                0.0          0.0           1.0  \n",
       "..               ...          ...           ...  \n",
       "409              0.0          1.0           0.0  \n",
       "412              0.0          0.0           0.0  \n",
       "417              0.0          0.0           1.0  \n",
       "418              0.0          0.0           0.0  \n",
       "421              1.0          0.0           0.0  \n",
       "\n",
       "[278 rows x 10 columns]"
      ]
     },
     "execution_count": 164,
     "metadata": {},
     "output_type": "execute_result"
    }
   ],
   "source": [
    "dfcoursOHE"
   ]
  },
  {
   "cell_type": "markdown",
   "metadata": {
    "id": "7VnAeWAr27HO"
   },
   "source": [
    "### Нейронка многослойный пресептрон"
   ]
  },
  {
   "cell_type": "code",
   "execution_count": null,
   "metadata": {
    "id": "tszQDKAm2578"
   },
   "outputs": [],
   "source": [
    "import matplotlib.pyplot as plt\n",
    "import pandas as pd\n",
    "\n",
    "from sklearn.linear_model import LogisticRegression, LinearRegression\n",
    "from sklearn.metrics import accuracy_score, confusion_matrix, mean_absolute_error\n",
    "from sklearn.model_selection import train_test_split \n",
    "from sklearn.neural_network import MLPClassifier\n",
    "# Модель многослойный персептрон\n",
    "# Подготовьте данные: удалите колонки, которые косвенно содержат информацию о целевой переменной (odometer/price_std, price_category).\n",
    "df_neurnet = dfcoursOHE.drop(['title_course', 'title_provider'], axis=1)"
   ]
  },
  {
   "cell_type": "code",
   "execution_count": null,
   "metadata": {
    "colab": {
     "base_uri": "https://localhost:8080/"
    },
    "id": "S9ddOSF56V-o",
    "outputId": "b84a4bfb-984f-4ceb-f6b4-80d7ab553082"
   },
   "outputs": [
    {
     "name": "stdout",
     "output_type": "stream",
     "text": [
      "выборка всего датасет = 278 - 100 %\n",
      "тренировочная выборка = 194 - 69.7841726618705 %\n",
      "тестова выборка = 84 - 30.215827338129497 %\n"
     ]
    }
   ],
   "source": [
    "x = df_neurnet.drop(['price_total'], axis=1)\n",
    "y = df_neurnet.price_total\n",
    "# инициализация модели по нейронным сетям\n",
    "x_train, x_test, y_train, y_test = train_test_split(x, y, test_size=0.3, random_state=42)\n",
    "print('выборка всего датасет =', len(df_neurnet), '-', 100, '%')\n",
    "print('тренировочная выборка =', len(x_train), '-', len(x_train)*100/len(df_neurnet), '%')\n",
    "print('тестова выборка =', len(x_test), '-', len(x_test)*100/len(df_neurnet), '%')"
   ]
  },
  {
   "cell_type": "code",
   "execution_count": null,
   "metadata": {
    "colab": {
     "base_uri": "https://localhost:8080/"
    },
    "id": "hZokCQuP6y-h",
    "outputId": "c818f147-e351-4504-cf4b-49b86a6c4d15"
   },
   "outputs": [
    {
     "data": {
      "text/plain": [
       "MLPClassifier(max_iter=500, random_state=42)"
      ]
     },
     "execution_count": 169,
     "metadata": {},
     "output_type": "execute_result"
    }
   ],
   "source": [
    "#запустим на этих же данных многослойный пресиптрона из from sklearn.neural_network import MLPClassifier\n",
    "# здесь есть задача как для классификатора так и для регрессии. \n",
    "# наша текущая задача - классификатор\n",
    "mlp = MLPClassifier(random_state=42, max_iter=500)\n",
    "mlp.fit(x_train, y_train)"
   ]
  },
  {
   "cell_type": "code",
   "execution_count": null,
   "metadata": {
    "colab": {
     "base_uri": "https://localhost:8080/"
    },
    "id": "TTmt7xHq7OXq",
    "outputId": "918af42d-9e70-41b7-9f0d-75ec4364949e"
   },
   "outputs": [
    {
     "name": "stdout",
     "output_type": "stream",
     "text": [
      "точность тестовой выборки = 0.0\n",
      "точность тренировочной выборки = 0.005154639175257732\n"
     ]
    }
   ],
   "source": [
    "# обучим модель, посчитаем точность \n",
    "pred_test_mlp_tuned = mlp.predict(x_test)\n",
    "pred_train_mlp_tuned = mlp.predict(x_train)\n",
    "print('точность тестовой выборки =', accuracy_score(y_test, pred_test_mlp_tuned))\n",
    "print('точность тренировочной выборки =', accuracy_score(y_train, pred_train_mlp_tuned))\n"
   ]
  }
 ],
 "metadata": {
  "colab": {
   "collapsed_sections": [
    "n5QeE0mS72vw",
    "MAOMKZKoQHcX",
    "98uN8qOJQV03",
    "FtvvedKJQeiV",
    "YzvtuhUbQlNG",
    "bXZNLF_sQqdJ",
    "bCqBXdBmQy3x",
    "lKN42t2JycR2",
    "_VZcvQ466Ssq",
    "z3xinaR9pq-u",
    "ogUnXqXsoK0b",
    "d8nRKqo_q3RG",
    "efiOPeYIq3RL",
    "il7slZ5LJuI9",
    "TlxdFxBdC3rF",
    "udyeEsbnbeUM",
    "bDAMPNuaruIr",
    "wuh9MHwB28Kj",
    "QT1G70LILdxQ",
    "D2i-T3HlsOkt",
    "xyw1q-lfYMEi",
    "QpVCRALHaNA4",
    "d699xRYObNpZ",
    "h3mWKsFkg3uK",
    "eIUjwmF8b5Na",
    "NE4eFNP-IpHq",
    "B3erY97ucvDC",
    "gMz0lLi_cvDE",
    "Fuq5UAPHcvDF",
    "938iolX3cvDH",
    "ectq0SU4LOCf"
   ],
   "provenance": []
  },
  "kernelspec": {
   "display_name": "Python 3 (ipykernel)",
   "language": "python",
   "name": "python3"
  },
  "language_info": {
   "codemirror_mode": {
    "name": "ipython",
    "version": 3
   },
   "file_extension": ".py",
   "mimetype": "text/x-python",
   "name": "python",
   "nbconvert_exporter": "python",
   "pygments_lexer": "ipython3",
   "version": "3.9.7"
  }
 },
 "nbformat": 4,
 "nbformat_minor": 1
}
